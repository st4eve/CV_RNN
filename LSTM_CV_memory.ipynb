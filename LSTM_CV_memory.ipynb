{
 "cells": [
  {
   "cell_type": "markdown",
   "id": "bfaa1d40",
   "metadata": {},
   "source": [
    "# Data Preparation"
   ]
  },
  {
   "cell_type": "code",
   "execution_count": 1,
   "id": "36a8945a",
   "metadata": {},
   "outputs": [
    {
     "name": "stdout",
     "output_type": "stream",
     "text": [
      "[*********************100%***********************]  1 of 1 completed\n",
      "[*********************100%***********************]  1 of 1 completed\n"
     ]
    },
    {
     "data": {
      "text/html": [
       "<div>\n",
       "<style scoped>\n",
       "    .dataframe tbody tr th:only-of-type {\n",
       "        vertical-align: middle;\n",
       "    }\n",
       "\n",
       "    .dataframe tbody tr th {\n",
       "        vertical-align: top;\n",
       "    }\n",
       "\n",
       "    .dataframe thead th {\n",
       "        text-align: right;\n",
       "    }\n",
       "</style>\n",
       "<table border=\"1\" class=\"dataframe\">\n",
       "  <thead>\n",
       "    <tr style=\"text-align: right;\">\n",
       "      <th></th>\n",
       "      <th>Open</th>\n",
       "      <th>High</th>\n",
       "      <th>Low</th>\n",
       "      <th>Close</th>\n",
       "      <th>Adj Close</th>\n",
       "      <th>Volume</th>\n",
       "      <th>company_name</th>\n",
       "    </tr>\n",
       "    <tr>\n",
       "      <th>Date</th>\n",
       "      <th></th>\n",
       "      <th></th>\n",
       "      <th></th>\n",
       "      <th></th>\n",
       "      <th></th>\n",
       "      <th></th>\n",
       "      <th></th>\n",
       "    </tr>\n",
       "  </thead>\n",
       "  <tbody>\n",
       "    <tr>\n",
       "      <th>2023-02-17 00:00:00-05:00</th>\n",
       "      <td>259.390015</td>\n",
       "      <td>260.089996</td>\n",
       "      <td>256.000000</td>\n",
       "      <td>258.059998</td>\n",
       "      <td>258.059998</td>\n",
       "      <td>29979600</td>\n",
       "      <td>MSFT</td>\n",
       "    </tr>\n",
       "    <tr>\n",
       "      <th>2023-02-21 00:00:00-05:00</th>\n",
       "      <td>254.479996</td>\n",
       "      <td>255.490005</td>\n",
       "      <td>251.589996</td>\n",
       "      <td>252.669998</td>\n",
       "      <td>252.669998</td>\n",
       "      <td>28397400</td>\n",
       "      <td>MSFT</td>\n",
       "    </tr>\n",
       "    <tr>\n",
       "      <th>2023-02-22 00:00:00-05:00</th>\n",
       "      <td>254.089996</td>\n",
       "      <td>254.339996</td>\n",
       "      <td>250.339996</td>\n",
       "      <td>251.509995</td>\n",
       "      <td>251.509995</td>\n",
       "      <td>22491100</td>\n",
       "      <td>MSFT</td>\n",
       "    </tr>\n",
       "    <tr>\n",
       "      <th>2023-02-23 00:00:00-05:00</th>\n",
       "      <td>255.559998</td>\n",
       "      <td>256.839996</td>\n",
       "      <td>250.479996</td>\n",
       "      <td>254.770004</td>\n",
       "      <td>254.770004</td>\n",
       "      <td>29219100</td>\n",
       "      <td>MSFT</td>\n",
       "    </tr>\n",
       "    <tr>\n",
       "      <th>2023-02-24 00:00:00-05:00</th>\n",
       "      <td>249.960007</td>\n",
       "      <td>251.000000</td>\n",
       "      <td>248.100006</td>\n",
       "      <td>249.220001</td>\n",
       "      <td>249.220001</td>\n",
       "      <td>24990900</td>\n",
       "      <td>MSFT</td>\n",
       "    </tr>\n",
       "    <tr>\n",
       "      <th>2023-02-27 00:00:00-05:00</th>\n",
       "      <td>252.460007</td>\n",
       "      <td>252.820007</td>\n",
       "      <td>249.389999</td>\n",
       "      <td>250.160004</td>\n",
       "      <td>250.160004</td>\n",
       "      <td>21190000</td>\n",
       "      <td>MSFT</td>\n",
       "    </tr>\n",
       "    <tr>\n",
       "      <th>2023-02-28 00:00:00-05:00</th>\n",
       "      <td>249.070007</td>\n",
       "      <td>251.490005</td>\n",
       "      <td>248.729996</td>\n",
       "      <td>249.419998</td>\n",
       "      <td>249.419998</td>\n",
       "      <td>22491000</td>\n",
       "      <td>MSFT</td>\n",
       "    </tr>\n",
       "    <tr>\n",
       "      <th>2023-03-01 00:00:00-05:00</th>\n",
       "      <td>250.759995</td>\n",
       "      <td>250.929993</td>\n",
       "      <td>245.789993</td>\n",
       "      <td>246.270004</td>\n",
       "      <td>246.270004</td>\n",
       "      <td>27565300</td>\n",
       "      <td>MSFT</td>\n",
       "    </tr>\n",
       "    <tr>\n",
       "      <th>2023-03-02 00:00:00-05:00</th>\n",
       "      <td>246.550003</td>\n",
       "      <td>251.399994</td>\n",
       "      <td>245.610001</td>\n",
       "      <td>251.110001</td>\n",
       "      <td>251.110001</td>\n",
       "      <td>24808200</td>\n",
       "      <td>MSFT</td>\n",
       "    </tr>\n",
       "    <tr>\n",
       "      <th>2023-03-03 00:00:00-05:00</th>\n",
       "      <td>252.190002</td>\n",
       "      <td>255.619995</td>\n",
       "      <td>251.389999</td>\n",
       "      <td>255.289993</td>\n",
       "      <td>255.289993</td>\n",
       "      <td>30741300</td>\n",
       "      <td>MSFT</td>\n",
       "    </tr>\n",
       "  </tbody>\n",
       "</table>\n",
       "</div>"
      ],
      "text/plain": [
       "                                 Open        High         Low       Close  \\\n",
       "Date                                                                        \n",
       "2023-02-17 00:00:00-05:00  259.390015  260.089996  256.000000  258.059998   \n",
       "2023-02-21 00:00:00-05:00  254.479996  255.490005  251.589996  252.669998   \n",
       "2023-02-22 00:00:00-05:00  254.089996  254.339996  250.339996  251.509995   \n",
       "2023-02-23 00:00:00-05:00  255.559998  256.839996  250.479996  254.770004   \n",
       "2023-02-24 00:00:00-05:00  249.960007  251.000000  248.100006  249.220001   \n",
       "2023-02-27 00:00:00-05:00  252.460007  252.820007  249.389999  250.160004   \n",
       "2023-02-28 00:00:00-05:00  249.070007  251.490005  248.729996  249.419998   \n",
       "2023-03-01 00:00:00-05:00  250.759995  250.929993  245.789993  246.270004   \n",
       "2023-03-02 00:00:00-05:00  246.550003  251.399994  245.610001  251.110001   \n",
       "2023-03-03 00:00:00-05:00  252.190002  255.619995  251.389999  255.289993   \n",
       "\n",
       "                            Adj Close    Volume company_name  \n",
       "Date                                                          \n",
       "2023-02-17 00:00:00-05:00  258.059998  29979600         MSFT  \n",
       "2023-02-21 00:00:00-05:00  252.669998  28397400         MSFT  \n",
       "2023-02-22 00:00:00-05:00  251.509995  22491100         MSFT  \n",
       "2023-02-23 00:00:00-05:00  254.770004  29219100         MSFT  \n",
       "2023-02-24 00:00:00-05:00  249.220001  24990900         MSFT  \n",
       "2023-02-27 00:00:00-05:00  250.160004  21190000         MSFT  \n",
       "2023-02-28 00:00:00-05:00  249.419998  22491000         MSFT  \n",
       "2023-03-01 00:00:00-05:00  246.270004  27565300         MSFT  \n",
       "2023-03-02 00:00:00-05:00  251.110001  24808200         MSFT  \n",
       "2023-03-03 00:00:00-05:00  255.289993  30741300         MSFT  "
      ]
     },
     "execution_count": 1,
     "metadata": {},
     "output_type": "execute_result"
    }
   ],
   "source": [
    "import pandas as pd\n",
    "import numpy as np\n",
    "\n",
    "import matplotlib.pyplot as plt\n",
    "import seaborn as sns\n",
    "sns.set_style('whitegrid')\n",
    "plt.style.use(\"fivethirtyeight\")\n",
    "%matplotlib inline\n",
    "\n",
    "# For reading stock data from yahoo\n",
    "from pandas_datareader.data import DataReader\n",
    "from pandas_datareader.yahoo.daily import YahooDailyReader\n",
    "import yfinance as yf\n",
    "\n",
    "# For time stamps\n",
    "from datetime import datetime\n",
    "\n",
    "\n",
    "# The tech stocks we'll use for this analysis\n",
    "tech_list = ['GOOG','MSFT']\n",
    "\n",
    "# Set up End and Start times for data grab\n",
    "\n",
    "end = datetime.now()\n",
    "start = datetime(end.year - 2, end.month, end.day)\n",
    "\n",
    "for stock in tech_list:\n",
    "    globals()[stock] = yf.download(stock, start, end)\n",
    "    \n",
    "\n",
    "company_list = [GOOG, MSFT]\n",
    "company_name = [\"GOOGLE\", \"MSFT\"]\n",
    "\n",
    "for company, com_name in zip(company_list, company_name):\n",
    "    company[\"company_name\"] = com_name\n",
    "    \n",
    "df = pd.concat(company_list, axis=0)\n",
    "df.tail(10)\n"
   ]
  },
  {
   "cell_type": "code",
   "execution_count": 2,
   "id": "59701d93",
   "metadata": {},
   "outputs": [
    {
     "data": {
      "text/html": [
       "<div>\n",
       "<style scoped>\n",
       "    .dataframe tbody tr th:only-of-type {\n",
       "        vertical-align: middle;\n",
       "    }\n",
       "\n",
       "    .dataframe tbody tr th {\n",
       "        vertical-align: top;\n",
       "    }\n",
       "\n",
       "    .dataframe thead th {\n",
       "        text-align: right;\n",
       "    }\n",
       "</style>\n",
       "<table border=\"1\" class=\"dataframe\">\n",
       "  <thead>\n",
       "    <tr style=\"text-align: right;\">\n",
       "      <th></th>\n",
       "      <th>Open</th>\n",
       "      <th>High</th>\n",
       "      <th>Low</th>\n",
       "      <th>Close</th>\n",
       "      <th>Adj Close</th>\n",
       "      <th>Volume</th>\n",
       "    </tr>\n",
       "  </thead>\n",
       "  <tbody>\n",
       "    <tr>\n",
       "      <th>count</th>\n",
       "      <td>503.000000</td>\n",
       "      <td>503.000000</td>\n",
       "      <td>503.000000</td>\n",
       "      <td>503.000000</td>\n",
       "      <td>503.000000</td>\n",
       "      <td>5.030000e+02</td>\n",
       "    </tr>\n",
       "    <tr>\n",
       "      <th>mean</th>\n",
       "      <td>120.163789</td>\n",
       "      <td>121.547019</td>\n",
       "      <td>118.809984</td>\n",
       "      <td>120.177586</td>\n",
       "      <td>120.177586</td>\n",
       "      <td>2.692511e+07</td>\n",
       "    </tr>\n",
       "    <tr>\n",
       "      <th>std</th>\n",
       "      <td>18.275710</td>\n",
       "      <td>18.198235</td>\n",
       "      <td>18.183253</td>\n",
       "      <td>18.185849</td>\n",
       "      <td>18.185849</td>\n",
       "      <td>1.059102e+07</td>\n",
       "    </tr>\n",
       "    <tr>\n",
       "      <th>min</th>\n",
       "      <td>85.510002</td>\n",
       "      <td>86.550003</td>\n",
       "      <td>83.449997</td>\n",
       "      <td>83.489998</td>\n",
       "      <td>83.489998</td>\n",
       "      <td>8.567800e+06</td>\n",
       "    </tr>\n",
       "    <tr>\n",
       "      <th>25%</th>\n",
       "      <td>103.608997</td>\n",
       "      <td>104.899998</td>\n",
       "      <td>102.373753</td>\n",
       "      <td>103.739998</td>\n",
       "      <td>103.739998</td>\n",
       "      <td>2.013300e+07</td>\n",
       "    </tr>\n",
       "    <tr>\n",
       "      <th>50%</th>\n",
       "      <td>118.487000</td>\n",
       "      <td>120.000000</td>\n",
       "      <td>117.118500</td>\n",
       "      <td>118.870003</td>\n",
       "      <td>118.870003</td>\n",
       "      <td>2.460800e+07</td>\n",
       "    </tr>\n",
       "    <tr>\n",
       "      <th>75%</th>\n",
       "      <td>137.112595</td>\n",
       "      <td>138.408752</td>\n",
       "      <td>135.744499</td>\n",
       "      <td>137.020248</td>\n",
       "      <td>137.020248</td>\n",
       "      <td>3.101445e+07</td>\n",
       "    </tr>\n",
       "    <tr>\n",
       "      <th>max</th>\n",
       "      <td>151.863495</td>\n",
       "      <td>152.100006</td>\n",
       "      <td>149.887497</td>\n",
       "      <td>150.709000</td>\n",
       "      <td>150.709000</td>\n",
       "      <td>9.779860e+07</td>\n",
       "    </tr>\n",
       "  </tbody>\n",
       "</table>\n",
       "</div>"
      ],
      "text/plain": [
       "             Open        High         Low       Close   Adj Close  \\\n",
       "count  503.000000  503.000000  503.000000  503.000000  503.000000   \n",
       "mean   120.163789  121.547019  118.809984  120.177586  120.177586   \n",
       "std     18.275710   18.198235   18.183253   18.185849   18.185849   \n",
       "min     85.510002   86.550003   83.449997   83.489998   83.489998   \n",
       "25%    103.608997  104.899998  102.373753  103.739998  103.739998   \n",
       "50%    118.487000  120.000000  117.118500  118.870003  118.870003   \n",
       "75%    137.112595  138.408752  135.744499  137.020248  137.020248   \n",
       "max    151.863495  152.100006  149.887497  150.709000  150.709000   \n",
       "\n",
       "             Volume  \n",
       "count  5.030000e+02  \n",
       "mean   2.692511e+07  \n",
       "std    1.059102e+07  \n",
       "min    8.567800e+06  \n",
       "25%    2.013300e+07  \n",
       "50%    2.460800e+07  \n",
       "75%    3.101445e+07  \n",
       "max    9.779860e+07  "
      ]
     },
     "execution_count": 2,
     "metadata": {},
     "output_type": "execute_result"
    }
   ],
   "source": [
    "GOOG.describe()"
   ]
  },
  {
   "cell_type": "code",
   "execution_count": 3,
   "id": "018b3e5f",
   "metadata": {},
   "outputs": [
    {
     "data": {
      "image/png": "[encoded data removed]",
      "text/plain": [
       "<Figure size 640x480 with 1 Axes>"
      ]
     },
     "metadata": {},
     "output_type": "display_data"
    }
   ],
   "source": [
    "df = DataReader('GOOG', data_source='stooq', start='2014-01-01', end=datetime.now())\n",
    "plt.title('Close Price History of GOOG')\n",
    "plt.plot(df['Close'])\n",
    "plt.xlabel('Date')\n",
    "plt.ylabel('Close Price (USD)')\n",
    "plt.show()"
   ]
  },
  {
   "cell_type": "code",
   "execution_count": 4,
   "id": "8049bf4a",
   "metadata": {},
   "outputs": [
    {
     "data": {
      "text/plain": [
       "1800"
      ]
     },
     "execution_count": 4,
     "metadata": {},
     "output_type": "execute_result"
    }
   ],
   "source": [
    "data = df.filter(items=['Close'])[-1::-1]\n",
    "dataset = data.values\n",
    "training_data_len = int(np.ceil(len(dataset) * 0.8))\n",
    "training_data_len"
   ]
  },
  {
   "cell_type": "code",
   "execution_count": 5,
   "id": "499c64c4",
   "metadata": {},
   "outputs": [
    {
     "data": {
      "text/plain": [
       "array([[0.02613786],\n",
       "       [0.02674461],\n",
       "       [0.02554697],\n",
       "       ...,\n",
       "       [0.52253899],\n",
       "       [0.53681547],\n",
       "       [0.55037813]])"
      ]
     },
     "execution_count": 5,
     "metadata": {},
     "output_type": "execute_result"
    }
   ],
   "source": [
    "from sklearn.preprocessing import MinMaxScaler\n",
    "\n",
    "scaler = MinMaxScaler(feature_range=(0,1))\n",
    "scaled_data = scaler.fit_transform(dataset)\n",
    "\n",
    "scaled_data"
   ]
  },
  {
   "cell_type": "markdown",
   "id": "48870011",
   "metadata": {},
   "source": [
    "## Training Data"
   ]
  },
  {
   "cell_type": "code",
   "execution_count": 6,
   "id": "7c017dc2",
   "metadata": {},
   "outputs": [
    {
     "name": "stdout",
     "output_type": "stream",
     "text": [
      "\n",
      "\n"
     ]
    },
    {
     "data": {
      "text/plain": [
       "(1700, 100, 1)"
      ]
     },
     "execution_count": 6,
     "metadata": {},
     "output_type": "execute_result"
    }
   ],
   "source": [
    "# Create the training data set \n",
    "# Create the scaled training data set\n",
    "train_data = scaled_data[0:int(training_data_len), :]\n",
    "# Split the data into x_train and y_train data sets\n",
    "x_train = []\n",
    "y_train = []\n",
    "\n",
    "\n",
    "dat_size = 100\n",
    "\n",
    "for i in range(dat_size, len(train_data)):\n",
    "    x_train.append(train_data[i-dat_size:i, 0])\n",
    "    y_train.append(train_data[i, 0])\n",
    "    if i<= dat_size+1:\n",
    "        #print(x_train)\n",
    "        #print(y_train)\n",
    "        print()\n",
    "        \n",
    "# Convert the x_train and y_train to numpy arrays \n",
    "x_train, y_train = np.array(x_train), np.array(y_train)\n",
    "\n",
    "# Reshape the data\n",
    "x_train = np.reshape(x_train, (x_train.shape[0], x_train.shape[1], 1))\n",
    "x_train.shape"
   ]
  },
  {
   "cell_type": "markdown",
   "id": "f4f2f0c2",
   "metadata": {},
   "source": [
    "## Testing Data"
   ]
  },
  {
   "cell_type": "code",
   "execution_count": 7,
   "id": "b082a74f",
   "metadata": {},
   "outputs": [
    {
     "data": {
      "text/plain": [
       "(450, 100, 1)"
      ]
     },
     "execution_count": 7,
     "metadata": {},
     "output_type": "execute_result"
    }
   ],
   "source": [
    "# Create the testing data set\n",
    "# Create a new array containing scaled values from index 1543 to 2002 \n",
    "test_data = scaled_data[training_data_len - dat_size: , :]\n",
    "# Create the data sets x_test and y_test\n",
    "x_test = []\n",
    "y_test = dataset[training_data_len:, :]\n",
    "for i in range(dat_size, len(test_data)):\n",
    "    x_test.append(test_data[i-dat_size:i, 0])\n",
    "    \n",
    "# Convert the data to a numpy array\n",
    "x_test = np.array(x_test)\n",
    "\n",
    "# Reshape the data\n",
    "x_test = np.reshape(x_test, (x_test.shape[0], x_test.shape[1], 1 ))\n",
    "x_test.shape"
   ]
  },
  {
   "cell_type": "code",
   "execution_count": 8,
   "id": "e8935450",
   "metadata": {},
   "outputs": [
    {
     "name": "stderr",
     "output_type": "stream",
     "text": [
      "2023-03-05 20:29:33.639172: I tensorflow/core/platform/cpu_feature_guard.cc:193] This TensorFlow binary is optimized with oneAPI Deep Neural Network Library (oneDNN) to use the following CPU instructions in performance-critical operations:  SSE4.1 SSE4.2 AVX AVX2 FMA\n",
      "To enable them in other operations, rebuild TensorFlow with the appropriate compiler flags.\n"
     ]
    },
    {
     "name": "stdout",
     "output_type": "stream",
     "text": [
      "--xla_gpu_cuda_data_dir=/opt/cuda\n"
     ]
    }
   ],
   "source": [
    "import tensorflow as tf\n",
    "from tensorflow.keras import layers\n",
    "from tensorflow import keras\n",
    "from tensorflow.keras.layers import RNN, LSTMCell\n",
    "from tensorflow.keras.backend import dot\n",
    "from tensorflow.keras import activations, initializers\n",
    "from keras.models import Sequential\n",
    "from keras.layers import Dense, LSTM\n",
    "import os\n",
    "print(os.environ['XLA_FLAGS'])\n",
    "os.environ[\"CUDA_VISIBLE_DEVICES\"] = \"0\""
   ]
  },
  {
   "cell_type": "code",
   "execution_count": 9,
   "id": "b6fb4330",
   "metadata": {},
   "outputs": [],
   "source": [
    "import pennylane as qml\n",
    "from pennylane import optimize\n",
    "import matplotlib.pyplot as plt"
   ]
  },
  {
   "cell_type": "code",
   "execution_count": 10,
   "id": "76784d10",
   "metadata": {},
   "outputs": [
    {
     "name": "stderr",
     "output_type": "stream",
     "text": [
      "2023-03-05 20:29:36.984833: E tensorflow/compiler/xla/stream_executor/cuda/cuda_driver.cc:267] failed call to cuInit: CUDA_ERROR_UNKNOWN: unknown error\n",
      "2023-03-05 20:29:36.984879: I tensorflow/compiler/xla/stream_executor/cuda/cuda_diagnostics.cc:169] retrieving CUDA diagnostic information for host: st4eve-precision5530\n",
      "2023-03-05 20:29:36.984885: I tensorflow/compiler/xla/stream_executor/cuda/cuda_diagnostics.cc:176] hostname: st4eve-precision5530\n",
      "2023-03-05 20:29:36.984981: I tensorflow/compiler/xla/stream_executor/cuda/cuda_diagnostics.cc:200] libcuda reported version is: 525.89.2\n",
      "2023-03-05 20:29:36.984998: I tensorflow/compiler/xla/stream_executor/cuda/cuda_diagnostics.cc:204] kernel reported version is: 525.89.2\n",
      "2023-03-05 20:29:36.985004: I tensorflow/compiler/xla/stream_executor/cuda/cuda_diagnostics.cc:310] kernel version seems to match DSO: 525.89.2\n"
     ]
    },
    {
     "data": {
      "text/plain": [
       "[]"
      ]
     },
     "execution_count": 10,
     "metadata": {},
     "output_type": "execute_result"
    }
   ],
   "source": [
    "tf.keras.backend.set_floatx('float32')\n",
    "tf.config.list_physical_devices('GPU')"
   ]
  },
  {
   "cell_type": "markdown",
   "id": "7f7efabb",
   "metadata": {},
   "source": [
    "# Preparing Quantum memory layer"
   ]
  },
  {
   "cell_type": "code",
   "execution_count": 11,
   "id": "0591250d",
   "metadata": {},
   "outputs": [],
   "source": [
    "from CV_quantum_layers import CV_Encoding, CV_Measurement, Activation_Layer\n",
    "from CV_quantum_layers import build_cv_quantum_node, QuantumLayer_MultiQunode"
   ]
  },
  {
   "cell_type": "code",
   "execution_count": 12,
   "id": "391b78f1",
   "metadata": {},
   "outputs": [],
   "source": [
    "encode_AP = CV_Encoding('Amplitude_Phase')\n",
    "Qrelu = Activation_Layer('ReLU', encode_AP)\n",
    "Qsig = Activation_Layer('Sigmoid', encode_AP)\n",
    "Qtanh = Activation_Layer('TanH', encode_AP)"
   ]
  },
  {
   "cell_type": "markdown",
   "id": "cba44a6c",
   "metadata": {},
   "source": [
    "### Circuit definition"
   ]
  },
  {
   "cell_type": "code",
   "execution_count": 13,
   "id": "e88988c2",
   "metadata": {},
   "outputs": [],
   "source": [
    "cutoff = 5\n",
    "\n",
    "dev = qml.device('strawberryfields.tf', wires=4, cutoff_dim=cutoff)\n",
    "@qml.qnode(dev, interface='tf')\n",
    "def qnode(inputs, y_ft, itC):\n",
    "\n",
    "    '''SQUEEZE INITIALIZATION'''\n",
    "    # Use previous expectation values to create a squeezed vacuum state for each qumode\n",
    "    for i in range(4):\n",
    "        qml.Squeezing(inputs[0][i], 0.0, wires=i) \n",
    "\n",
    "\n",
    "    '''ROTATION LAYER'''\n",
    "    # shape of y_ft: (1,4), values have been hard sigmoided\n",
    "    # ex. [[0.1, 1, 0.5, 0]]\n",
    "\n",
    "    #scaling to [0,2π]\n",
    "    y_ft = 2 * np.pi * y_ft\n",
    "\n",
    "    for i in range(4):\n",
    "        qml.Rotation(y_ft[0][i], wires=i)\n",
    "\n",
    "\n",
    "    '''DISPLACEMENT LAYER'''\n",
    "    # shape of itC: (1,4), values have been hard sigmoided\n",
    "\n",
    "    # scale itC to half of cutoff dimension to help with normalization\n",
    "    itC = itC * cutoff / 2\n",
    "\n",
    "    for i in range(4):\n",
    "        qml.Displacement(itC[0][i], 0.0, wires=i)\n",
    "        \n",
    "\n",
    "    '''MEASUREMENT'''\n",
    "\n",
    "    return [qml.expval(qml.X(i)) for i in range(4)]\n",
    "\n",
    "\n",
    "\n",
    "#Defining mamory_update as a keras layer\n",
    "weight_shapes = {\"y_ft\": (1, 4), \"itC\": (1, 4)}\n",
    "\n",
    "qlayer = qml.qnn.KerasLayer(qnode, weight_shapes, output_dim=4, batch_idx=0)"
   ]
  },
  {
   "cell_type": "code",
   "execution_count": 15,
   "id": "7bf952b1",
   "metadata": {},
   "outputs": [
    {
     "name": "stderr",
     "output_type": "stream",
     "text": [
      "2023-03-05 20:29:51.239469: W tensorflow/core/framework/op_kernel.cc:1830] OP_REQUIRES failed at strided_slice_op.cc:105 : INVALID_ARGUMENT: slice index 1 of dimension 0 out of bounds.\n"
     ]
    },
    {
     "ename": "InvalidArgumentError",
     "evalue": "{{function_node __wrapped__StridedSlice_device_/job:localhost/replica:0/task:0/device:CPU:0}} slice index 1 of dimension 0 out of bounds. [Op:StridedSlice] name: strided_slice/",
     "output_type": "error",
     "traceback": [
      "\u001b[0;31m---------------------------------------------------------------------------\u001b[0m",
      "\u001b[0;31mInvalidArgumentError\u001b[0m                      Traceback (most recent call last)",
      "Cell \u001b[0;32mIn[15], line 2\u001b[0m\n\u001b[1;32m      1\u001b[0m c_test \u001b[38;5;241m=\u001b[39m tf\u001b[38;5;241m.\u001b[39mrandom\u001b[38;5;241m.\u001b[39muniform((\u001b[38;5;241m3\u001b[39m, \u001b[38;5;241m1\u001b[39m, \u001b[38;5;241m4\u001b[39m))\n\u001b[0;32m----> 2\u001b[0m \u001b[43mqnode\u001b[49m\u001b[43m(\u001b[49m\u001b[43mc_test\u001b[49m\u001b[43m,\u001b[49m\u001b[43m \u001b[49m\u001b[43mc_test\u001b[49m\u001b[43m,\u001b[49m\u001b[43m \u001b[49m\u001b[43mc_test\u001b[49m\u001b[43m)\u001b[49m\n",
      "File \u001b[0;32m~/miniconda3/envs/CVTrain/lib/python3.10/site-packages/pennylane/qnode.py:566\u001b[0m, in \u001b[0;36mQNode.__call__\u001b[0;34m(self, *args, **kwargs)\u001b[0m\n\u001b[1;32m    563\u001b[0m         set_shots(\u001b[38;5;28mself\u001b[39m\u001b[38;5;241m.\u001b[39m_original_device, override_shots)(\u001b[38;5;28mself\u001b[39m\u001b[38;5;241m.\u001b[39m_update_gradient_fn)()\n\u001b[1;32m    565\u001b[0m \u001b[38;5;66;03m# construct the tape\u001b[39;00m\n\u001b[0;32m--> 566\u001b[0m \u001b[38;5;28;43mself\u001b[39;49m\u001b[38;5;241;43m.\u001b[39;49m\u001b[43mconstruct\u001b[49m\u001b[43m(\u001b[49m\u001b[43margs\u001b[49m\u001b[43m,\u001b[49m\u001b[43m \u001b[49m\u001b[43mkwargs\u001b[49m\u001b[43m)\u001b[49m\n\u001b[1;32m    568\u001b[0m cache \u001b[38;5;241m=\u001b[39m \u001b[38;5;28mself\u001b[39m\u001b[38;5;241m.\u001b[39mexecute_kwargs\u001b[38;5;241m.\u001b[39mget(\u001b[38;5;124m\"\u001b[39m\u001b[38;5;124mcache\u001b[39m\u001b[38;5;124m\"\u001b[39m, \u001b[38;5;28;01mFalse\u001b[39;00m)\n\u001b[1;32m    569\u001b[0m using_custom_cache \u001b[38;5;241m=\u001b[39m (\n\u001b[1;32m    570\u001b[0m     \u001b[38;5;28mhasattr\u001b[39m(cache, \u001b[38;5;124m\"\u001b[39m\u001b[38;5;124m__getitem__\u001b[39m\u001b[38;5;124m\"\u001b[39m)\n\u001b[1;32m    571\u001b[0m     \u001b[38;5;129;01mand\u001b[39;00m \u001b[38;5;28mhasattr\u001b[39m(cache, \u001b[38;5;124m\"\u001b[39m\u001b[38;5;124m__setitem__\u001b[39m\u001b[38;5;124m\"\u001b[39m)\n\u001b[1;32m    572\u001b[0m     \u001b[38;5;129;01mand\u001b[39;00m \u001b[38;5;28mhasattr\u001b[39m(cache, \u001b[38;5;124m\"\u001b[39m\u001b[38;5;124m__delitem__\u001b[39m\u001b[38;5;124m\"\u001b[39m)\n\u001b[1;32m    573\u001b[0m )\n",
      "File \u001b[0;32m~/miniconda3/envs/CVTrain/lib/python3.10/site-packages/pennylane/qnode.py:483\u001b[0m, in \u001b[0;36mQNode.construct\u001b[0;34m(self, args, kwargs)\u001b[0m\n\u001b[1;32m    480\u001b[0m \u001b[38;5;28mself\u001b[39m\u001b[38;5;241m.\u001b[39m_tape \u001b[38;5;241m=\u001b[39m qml\u001b[38;5;241m.\u001b[39mtape\u001b[38;5;241m.\u001b[39mQuantumTape()\n\u001b[1;32m    482\u001b[0m \u001b[38;5;28;01mwith\u001b[39;00m \u001b[38;5;28mself\u001b[39m\u001b[38;5;241m.\u001b[39mtape:\n\u001b[0;32m--> 483\u001b[0m     \u001b[38;5;28mself\u001b[39m\u001b[38;5;241m.\u001b[39m_qfunc_output \u001b[38;5;241m=\u001b[39m \u001b[38;5;28;43mself\u001b[39;49m\u001b[38;5;241;43m.\u001b[39;49m\u001b[43mfunc\u001b[49m\u001b[43m(\u001b[49m\u001b[38;5;241;43m*\u001b[39;49m\u001b[43margs\u001b[49m\u001b[43m,\u001b[49m\u001b[43m \u001b[49m\u001b[38;5;241;43m*\u001b[39;49m\u001b[38;5;241;43m*\u001b[39;49m\u001b[43mkwargs\u001b[49m\u001b[43m)\u001b[49m\n\u001b[1;32m    484\u001b[0m \u001b[38;5;28mself\u001b[39m\u001b[38;5;241m.\u001b[39m_tape\u001b[38;5;241m.\u001b[39m_qfunc_output \u001b[38;5;241m=\u001b[39m \u001b[38;5;28mself\u001b[39m\u001b[38;5;241m.\u001b[39m_qfunc_output\n\u001b[1;32m    486\u001b[0m params \u001b[38;5;241m=\u001b[39m \u001b[38;5;28mself\u001b[39m\u001b[38;5;241m.\u001b[39mtape\u001b[38;5;241m.\u001b[39mget_parameters(trainable_only\u001b[38;5;241m=\u001b[39m\u001b[38;5;28;01mFalse\u001b[39;00m)\n",
      "Cell \u001b[0;32mIn[13], line 10\u001b[0m, in \u001b[0;36mqnode\u001b[0;34m(inputs, y_ft, itC)\u001b[0m\n\u001b[1;32m      8\u001b[0m \u001b[38;5;66;03m# Use previous expectation values to create a squeezed vacuum state for each qumode\u001b[39;00m\n\u001b[1;32m      9\u001b[0m \u001b[38;5;28;01mfor\u001b[39;00m i \u001b[38;5;129;01min\u001b[39;00m \u001b[38;5;28mrange\u001b[39m(\u001b[38;5;241m4\u001b[39m):\n\u001b[0;32m---> 10\u001b[0m     qml\u001b[38;5;241m.\u001b[39mSqueezing(\u001b[43minputs\u001b[49m\u001b[43m[\u001b[49m\u001b[38;5;241;43m0\u001b[39;49m\u001b[43m]\u001b[49m\u001b[43m[\u001b[49m\u001b[43mi\u001b[49m\u001b[43m]\u001b[49m, \u001b[38;5;241m0.0\u001b[39m, wires\u001b[38;5;241m=\u001b[39mi) \n\u001b[1;32m     13\u001b[0m \u001b[38;5;250m\u001b[39m\u001b[38;5;124;03m'''ROTATION LAYER'''\u001b[39;00m\n\u001b[1;32m     14\u001b[0m \u001b[38;5;66;03m# shape of y_ft: (1,4), values have been hard sigmoided\u001b[39;00m\n\u001b[1;32m     15\u001b[0m \u001b[38;5;66;03m# ex. [[0.1, 1, 0.5, 0]]\u001b[39;00m\n\u001b[1;32m     16\u001b[0m \n\u001b[1;32m     17\u001b[0m \u001b[38;5;66;03m#scaling to [0,2π]\u001b[39;00m\n",
      "File \u001b[0;32m~/miniconda3/envs/CVTrain/lib/python3.10/site-packages/tensorflow/python/util/traceback_utils.py:153\u001b[0m, in \u001b[0;36mfilter_traceback.<locals>.error_handler\u001b[0;34m(*args, **kwargs)\u001b[0m\n\u001b[1;32m    151\u001b[0m \u001b[38;5;28;01mexcept\u001b[39;00m \u001b[38;5;167;01mException\u001b[39;00m \u001b[38;5;28;01mas\u001b[39;00m e:\n\u001b[1;32m    152\u001b[0m   filtered_tb \u001b[38;5;241m=\u001b[39m _process_traceback_frames(e\u001b[38;5;241m.\u001b[39m__traceback__)\n\u001b[0;32m--> 153\u001b[0m   \u001b[38;5;28;01mraise\u001b[39;00m e\u001b[38;5;241m.\u001b[39mwith_traceback(filtered_tb) \u001b[38;5;28;01mfrom\u001b[39;00m \u001b[38;5;28mNone\u001b[39m\n\u001b[1;32m    154\u001b[0m \u001b[38;5;28;01mfinally\u001b[39;00m:\n\u001b[1;32m    155\u001b[0m   \u001b[38;5;28;01mdel\u001b[39;00m filtered_tb\n",
      "File \u001b[0;32m~/miniconda3/envs/CVTrain/lib/python3.10/site-packages/tensorflow/python/framework/ops.py:7215\u001b[0m, in \u001b[0;36mraise_from_not_ok_status\u001b[0;34m(e, name)\u001b[0m\n\u001b[1;32m   7213\u001b[0m \u001b[38;5;28;01mdef\u001b[39;00m \u001b[38;5;21mraise_from_not_ok_status\u001b[39m(e, name):\n\u001b[1;32m   7214\u001b[0m   e\u001b[38;5;241m.\u001b[39mmessage \u001b[38;5;241m+\u001b[39m\u001b[38;5;241m=\u001b[39m (\u001b[38;5;124m\"\u001b[39m\u001b[38;5;124m name: \u001b[39m\u001b[38;5;124m\"\u001b[39m \u001b[38;5;241m+\u001b[39m name \u001b[38;5;28;01mif\u001b[39;00m name \u001b[38;5;129;01mis\u001b[39;00m \u001b[38;5;129;01mnot\u001b[39;00m \u001b[38;5;28;01mNone\u001b[39;00m \u001b[38;5;28;01melse\u001b[39;00m \u001b[38;5;124m\"\u001b[39m\u001b[38;5;124m\"\u001b[39m)\n\u001b[0;32m-> 7215\u001b[0m   \u001b[38;5;28;01mraise\u001b[39;00m core\u001b[38;5;241m.\u001b[39m_status_to_exception(e) \u001b[38;5;28;01mfrom\u001b[39;00m \u001b[38;5;28mNone\u001b[39m\n",
      "\u001b[0;31mInvalidArgumentError\u001b[0m: {{function_node __wrapped__StridedSlice_device_/job:localhost/replica:0/task:0/device:CPU:0}} slice index 1 of dimension 0 out of bounds. [Op:StridedSlice] name: strided_slice/"
     ]
    }
   ],
   "source": [
    "c_test = tf.random.uniform((3, 1, 4))\n",
    "qnode(c_test, c_test, c_test)"
   ]
  },
  {
   "cell_type": "markdown",
   "id": "1c19f7a8",
   "metadata": {},
   "source": [
    "# Defining our network"
   ]
  },
  {
   "cell_type": "code",
   "execution_count": 16,
   "id": "f3bd3b39",
   "metadata": {},
   "outputs": [],
   "source": [
    "class LSTM(tf.keras.layers.Layer):\n",
    "    def __init__(self, units, **kwargs):\n",
    "        self.units = units\n",
    "        self.state_size = [self.units, self.units]\n",
    "        \n",
    "        self.activation = activations.get('tanh')\n",
    "        self.recurrent_activation = activations.get('hard_sigmoid')\n",
    "        self.kernel_initializer = initializers.get('glorot_uniform')\n",
    "        self.recurrent_initializer = initializers.get('orthogonal')\n",
    "        self.bias_initializer = initializers.get('zeros')\n",
    "        \n",
    "              \n",
    "        self.cutoff = 3\n",
    "        self.dev = qml.device('strawberryfields.tf', wires=self.units, cutoff_dim=self.cutoff)\n",
    "        \n",
    "        \n",
    "        super(LSTM, self).__init__(**kwargs)\n",
    "    \n",
    "    def build_qnode(self):\n",
    "        @qml.qnode(self.dev, interface='tf')\n",
    "        def qnode(inputs):\n",
    "            c = inputs[0:self.units]\n",
    "            y_ft = inputs[self.units:2*self.units]\n",
    "            itC = inputs[2*self.units:3*self.units]\n",
    "            \"\"\"c = inputs[0]\n",
    "            y_ft = y_ft[0]\n",
    "            itC = itC[0]\"\"\"\n",
    "            \n",
    "            \n",
    "            '''SQUEEZE INITIALIZATION'''\n",
    "            # Use previous expectation values to create a squeezed vacuum state for each qumode\n",
    "            for i in range(self.units):\n",
    "                qml.Squeezing(c[i], 0.0, wires=i) \n",
    "\n",
    "\n",
    "            '''ROTATION LAYER'''\n",
    "            # shape of y_ft: (1,4), values have been hard sigmoided\n",
    "            # ex. [[0.1, 1, 0.5, 0]]\n",
    "\n",
    "            #scaling to [0,2π]\n",
    "            y_ft = 2 * np.pi * y_ft\n",
    "\n",
    "            for i in range(self.units):\n",
    "                qml.Rotation(y_ft[i], wires=i)\n",
    "\n",
    "\n",
    "            '''DISPLACEMENT LAYER'''\n",
    "            # shape of itC: (1,4), values have been hard sigmoided\n",
    "\n",
    "            # scale itC to half of cutoff dimension to help with normalization\n",
    "            itC = itC * cutoff / 10\n",
    "\n",
    "            for i in range(self.units):\n",
    "                qml.Displacement(itC[i], 0.0, wires=i)\n",
    "\n",
    "\n",
    "            '''MEASUREMENT'''\n",
    "\n",
    "            return [qml.expval(qml.X(i)) for i in range(self.units)]\n",
    "        return qnode\n",
    "    \n",
    "    def build(self, input_shape):\n",
    "        self.ft = self.add_weight(shape=(input_shape[-1] + self.units, self.units),\n",
    "                                      initializer=self.kernel_initializer,\n",
    "                                      name='ft')\n",
    "        self.ft_b = self.add_weight(shape=(self.units),\n",
    "                                      initializer=self.bias_initializer,\n",
    "                                      name='ft_b')\n",
    "        self.c = self.add_weight(shape=(input_shape[-1] + self.units, self.units),\n",
    "                                      initializer=self.kernel_initializer,\n",
    "                                      name='ct')\n",
    "        self.c_b = self.add_weight(shape=(self.units),\n",
    "                                      initializer=self.bias_initializer,\n",
    "                                      name='c_b')\n",
    "        self.o = self.add_weight(shape=(input_shape[-1] + self.units, self.units),\n",
    "                                      initializer=self.kernel_initializer,\n",
    "                                      name='ot')\n",
    "        self.o_b = self.add_weight(shape=(self.units),\n",
    "                                      initializer=self.bias_initializer,\n",
    "                                      name='o_b')\n",
    "        self.it = self.add_weight(shape=(input_shape[-1] + self.units, self.units),\n",
    "                                      initializer=self.kernel_initializer,\n",
    "                                      name='it')\n",
    "        self.it_b = self.add_weight(shape=(self.units),\n",
    "                                      initializer=self.bias_initializer,\n",
    "                                      name='i_b')\n",
    "        \n",
    "        self.built = True\n",
    "        \n",
    "        #Defining memory_update as a keras layer\n",
    "        weight_shapes= {}\n",
    "        qnode = self.build_qnode()\n",
    "\n",
    "        self.qlayer = qml.qnn.KerasLayer(qnode, \n",
    "                                         weight_shapes=weight_shapes, \n",
    "                                         output_dim=self.units,\n",
    "                                         trainable=False)\n",
    "        self.qnode = qnode\n",
    "\n",
    "    def call(self, inputs, states):\n",
    "        h,c = states[0], states[1]\n",
    "        \n",
    "        x = tf.concat([h,inputs], axis=-1)\n",
    "        \n",
    "        y_ft = self.recurrent_activation(dot(x, self.ft) + self.ft_b)\n",
    "        \n",
    "        y_it = self.recurrent_activation(dot(x, self.it) + self.it_b)\n",
    "        \n",
    "        y_c = self.activation(dot(x, self.c) + self.c_b)\n",
    "        \n",
    "        itC = y_it * y_c\n",
    "        \n",
    "        \n",
    "        '''\n",
    "        QUANTUM MEMORY SEGMENT:\n",
    "        '''\n",
    "        # returns expectation values from quantum memory circuit\n",
    "        q_inputs = tf.concat([c,y_ft,itC], axis=-1)\n",
    "        c_list = self.qlayer(q_inputs)\n",
    "        #c = tf.reshape(c_list, (1, self.units))\n",
    "        c = c_list\n",
    "        \n",
    "        y_o = self.recurrent_activation(dot(x, self.o) + self.o_b)\n",
    "        \n",
    "        \n",
    "        h = y_o * self.activation(c)\n",
    "        \n",
    "        output = h\n",
    "        \n",
    "        return output, [h,c]"
   ]
  },
  {
   "cell_type": "code",
   "execution_count": 17,
   "id": "85cd7c4e",
   "metadata": {
    "scrolled": false
   },
   "outputs": [
    {
     "name": "stderr",
     "output_type": "stream",
     "text": [
      "/home/st4eve/miniconda3/envs/CVTrain/lib/python3.10/site-packages/keras/initializers/initializers_v2.py:120: UserWarning: The initializer GlorotUniform is unseeded and being called multiple times, which will return identical values  each time (even if the initializer is unseeded). Please update your code to provide a seed to the initializer, or avoid using the same initalizer instance more than once.\n",
      "/home/st4eve/miniconda3/envs/CVTrain/lib/python3.10/site-packages/strawberryfields/program.py:732: UserWarning: The circuit consists of 2 disconnected components.\n",
      "/home/st4eve/miniconda3/envs/CVTrain/lib/python3.10/site-packages/strawberryfields/program.py:732: UserWarning: The circuit consists of 2 disconnected components.\n"
     ]
    },
    {
     "data": {
      "text/plain": [
       "<tf.Tensor: shape=(2, 2), dtype=float32, numpy=\n",
       "array([[0.45250043, 0.09643524],\n",
       "       [0.45250043, 0.09643524]], dtype=float32)>"
      ]
     },
     "execution_count": 17,
     "metadata": {},
     "output_type": "execute_result"
    }
   ],
   "source": [
    "model = RNN(LSTM(2), return_sequences=False)\n",
    "inputs = tf.ones([2,1,2])\n",
    "model(inputs)"
   ]
  },
  {
   "cell_type": "markdown",
   "id": "a22faf07",
   "metadata": {},
   "source": [
    "# Compiling/Training the model"
   ]
  },
  {
   "cell_type": "code",
   "execution_count": 19,
   "id": "7200d370",
   "metadata": {
    "scrolled": true
   },
   "outputs": [
    {
     "ename": "TypeError",
     "evalue": "Model.fit() got an unexpected keyword argument 'metric'",
     "output_type": "error",
     "traceback": [
      "\u001b[0;31m---------------------------------------------------------------------------\u001b[0m",
      "\u001b[0;31mTypeError\u001b[0m                                 Traceback (most recent call last)",
      "Cell \u001b[0;32mIn[19], line 18\u001b[0m\n\u001b[1;32m     15\u001b[0m model\u001b[38;5;241m.\u001b[39mcompile(optimizer\u001b[38;5;241m=\u001b[39m\u001b[38;5;124m'\u001b[39m\u001b[38;5;124madam\u001b[39m\u001b[38;5;124m'\u001b[39m, loss\u001b[38;5;241m=\u001b[39m\u001b[38;5;124m'\u001b[39m\u001b[38;5;124mmean_squared_error\u001b[39m\u001b[38;5;124m'\u001b[39m, run_eagerly\u001b[38;5;241m=\u001b[39m\u001b[38;5;28;01mTrue\u001b[39;00m)\n\u001b[1;32m     17\u001b[0m \u001b[38;5;66;03m# Train the model\u001b[39;00m\n\u001b[0;32m---> 18\u001b[0m \u001b[43mmodel\u001b[49m\u001b[38;5;241;43m.\u001b[39;49m\u001b[43mfit\u001b[49m\u001b[43m(\u001b[49m\u001b[43mx_train\u001b[49m\u001b[43m,\u001b[49m\u001b[43m \u001b[49m\u001b[43my_train\u001b[49m\u001b[43m,\u001b[49m\u001b[43m \u001b[49m\u001b[43mbatch_size\u001b[49m\u001b[38;5;241;43m=\u001b[39;49m\u001b[38;5;241;43m1\u001b[39;49m\u001b[43m,\u001b[49m\u001b[43m \u001b[49m\u001b[43mepochs\u001b[49m\u001b[38;5;241;43m=\u001b[39;49m\u001b[38;5;241;43m1\u001b[39;49m\u001b[43m,\u001b[49m\u001b[43m \u001b[49m\u001b[43mmetric\u001b[49m\u001b[38;5;241;43m=\u001b[39;49m\u001b[43m[\u001b[49m\u001b[38;5;124;43m'\u001b[39;49m\u001b[38;5;124;43maccuracy\u001b[39;49m\u001b[38;5;124;43m'\u001b[39;49m\u001b[43m]\u001b[49m\u001b[43m)\u001b[49m\n",
      "File \u001b[0;32m~/miniconda3/envs/CVTrain/lib/python3.10/site-packages/keras/utils/traceback_utils.py:70\u001b[0m, in \u001b[0;36mfilter_traceback.<locals>.error_handler\u001b[0;34m(*args, **kwargs)\u001b[0m\n\u001b[1;32m     67\u001b[0m     filtered_tb \u001b[38;5;241m=\u001b[39m _process_traceback_frames(e\u001b[38;5;241m.\u001b[39m__traceback__)\n\u001b[1;32m     68\u001b[0m     \u001b[38;5;66;03m# To get the full stack trace, call:\u001b[39;00m\n\u001b[1;32m     69\u001b[0m     \u001b[38;5;66;03m# `tf.debugging.disable_traceback_filtering()`\u001b[39;00m\n\u001b[0;32m---> 70\u001b[0m     \u001b[38;5;28;01mraise\u001b[39;00m e\u001b[38;5;241m.\u001b[39mwith_traceback(filtered_tb) \u001b[38;5;28;01mfrom\u001b[39;00m \u001b[38;5;28mNone\u001b[39m\n\u001b[1;32m     71\u001b[0m \u001b[38;5;28;01mfinally\u001b[39;00m:\n\u001b[1;32m     72\u001b[0m     \u001b[38;5;28;01mdel\u001b[39;00m filtered_tb\n",
      "File \u001b[0;32m~/miniconda3/envs/CVTrain/lib/python3.10/site-packages/keras/utils/traceback_utils.py:65\u001b[0m, in \u001b[0;36mfilter_traceback.<locals>.error_handler\u001b[0;34m(*args, **kwargs)\u001b[0m\n\u001b[1;32m     63\u001b[0m filtered_tb \u001b[38;5;241m=\u001b[39m \u001b[38;5;28;01mNone\u001b[39;00m\n\u001b[1;32m     64\u001b[0m \u001b[38;5;28;01mtry\u001b[39;00m:\n\u001b[0;32m---> 65\u001b[0m     \u001b[38;5;28;01mreturn\u001b[39;00m fn(\u001b[38;5;241m*\u001b[39margs, \u001b[38;5;241m*\u001b[39m\u001b[38;5;241m*\u001b[39mkwargs)\n\u001b[1;32m     66\u001b[0m \u001b[38;5;28;01mexcept\u001b[39;00m \u001b[38;5;167;01mException\u001b[39;00m \u001b[38;5;28;01mas\u001b[39;00m e:\n\u001b[1;32m     67\u001b[0m     filtered_tb \u001b[38;5;241m=\u001b[39m _process_traceback_frames(e\u001b[38;5;241m.\u001b[39m__traceback__)\n",
      "\u001b[0;31mTypeError\u001b[0m: Model.fit() got an unexpected keyword argument 'metric'"
     ]
    }
   ],
   "source": [
    " tf.debugging.set_log_device_placement(True)\n",
    "# Build the LSTM model\n",
    "#cell = LSTM(8)\n",
    "#layer = RNN(cell, return_sequences=True)\n",
    "\n",
    "cell2 = LSTM(1)   # first argument needs to be 4 (number of wires)\n",
    "layer2 = RNN(cell2, return_sequences=False)\n",
    "model = Sequential()\n",
    "#model.add(layer)\n",
    "model.add(layer2)\n",
    "model.add(Dense(35))\n",
    "model.add(Dense(1))\n",
    "\n",
    "# Compile the model\n",
    "model.compile(optimizer='adam', loss='mean_squared_error', run_eagerly=True)\n",
    "\n",
    "# Train the model\n",
    "model.fit(x_train, y_train, batch_size=1, epochs=1, metric=['accuracy'])"
   ]
  },
  {
   "cell_type": "code",
   "execution_count": null,
   "id": "4c3595bb",
   "metadata": {},
   "outputs": [],
   "source": [
    "#Create the testing data set\n",
    "# Create a new array containing scaled values from index 1543 to 2002 \n",
    "test_data = scaled_data[training_data_len - dat_size: , :]\n",
    "# Create the data sets x_test and y_test\n",
    "x_test = []\n",
    "y_test = dataset[training_data_len:, :]\n",
    "for i in range(dat_size, len(test_data)):\n",
    "    x_test.append(test_data[i-dat_size:i, 0])\n",
    "    \n",
    "# Convert the data to a numpy array\n",
    "x_test = np.array(x_test)\n",
    "\n",
    "\n",
    "# Reshape the data\n",
    "x_test = np.reshape(x_test, (x_test.shape[0], x_test.shape[1], 1))\n",
    "print(x_test.shape)\n",
    "# Get the models predicted price values \n",
    "predictions = model.predict(x_test)\n",
    "predictions = scaler.inverse_transform(predictions)\n",
    "\n",
    "'''forecast = np.zeros([len(x_test), 1])\n",
    "x_now = x_test[0].reshape(1,x_test.shape[1],1)\n",
    "print(x_now[0])\n",
    "for i in range(len(forecast)):\n",
    "    x_ = model.predict(x_now)\n",
    "        \n",
    "    forecast[i] = x_\n",
    "    \n",
    "    x_now[:][:-1] = x_now[:][1:]\n",
    "    if (i%len(forecast) == 0):\n",
    "        x_now[:][-1] = x_test[i]\n",
    "    else:\n",
    "        x_now[:][-1] = x_\n",
    "\n",
    "forecast = scaler.inverse_transform(forecast)'''\n",
    "\n",
    "\n",
    "# Get the root mean squared error (RMSE)\n",
    "rmse = np.sqrt(np.mean(((predictions - y_test) ** 2)))\n",
    "print(rmse)\n",
    "\n",
    "#rmse2 = np.sqrt(np.mean(((forecast - y_test) ** 2)))"
   ]
  },
  {
   "cell_type": "code",
   "execution_count": null,
   "id": "a2054d9f",
   "metadata": {},
   "outputs": [],
   "source": [
    "# Plot the data\n",
    "train = data[:training_data_len]\n",
    "valid = data[training_data_len:]\n",
    "valid['Predictions'] = predictions\n",
    "#valid['Forecast'] = forecast\n",
    "\n",
    "# Visualize the data\n",
    "plt.figure(figsize=(16,6))\n",
    "plt.title('Model')\n",
    "plt.xlabel('Date', fontsize=18)\n",
    "plt.ylabel('Close Price USD ($)', fontsize=18)\n",
    "plt.plot(train['Close'])\n",
    "plt.plot(valid[['Close', 'Predictions']])\n",
    "plt.legend(['Train', 'Val', 'Predictions'], loc='lower right')\n",
    "plt.show()"
   ]
  },
  {
   "cell_type": "code",
   "execution_count": null,
   "id": "c7753119",
   "metadata": {},
   "outputs": [],
   "source": []
  }
 ],
 "metadata": {
  "kernelspec": {
   "display_name": "Python 3 (ipykernel)",
   "language": "python",
   "name": "python3"
  },
  "language_info": {
   "codemirror_mode": {
    "name": "ipython",
    "version": 3
   },
   "file_extension": ".py",
   "mimetype": "text/x-python",
   "name": "python",
   "nbconvert_exporter": "python",
   "pygments_lexer": "ipython3",
   "version": "3.10.8"
  }
 },
 "nbformat": 4,
 "nbformat_minor": 5
}
