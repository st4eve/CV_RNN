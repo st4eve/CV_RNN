{
 "cells": [
  {
   "cell_type": "markdown",
   "id": "bfaa1d40",
   "metadata": {},
   "source": [
    "# Data Preparation"
   ]
  },
  {
   "cell_type": "code",
   "execution_count": 1,
   "id": "36a8945a",
   "metadata": {},
   "outputs": [
    {
     "name": "stdout",
     "output_type": "stream",
     "text": [
      "[*********************100%***********************]  1 of 1 completed\n",
      "[*********************100%***********************]  1 of 1 completed\n"
     ]
    },
    {
     "data": {
      "text/html": [
       "<div>\n",
       "<style scoped>\n",
       "    .dataframe tbody tr th:only-of-type {\n",
       "        vertical-align: middle;\n",
       "    }\n",
       "\n",
       "    .dataframe tbody tr th {\n",
       "        vertical-align: top;\n",
       "    }\n",
       "\n",
       "    .dataframe thead th {\n",
       "        text-align: right;\n",
       "    }\n",
       "</style>\n",
       "<table border=\"1\" class=\"dataframe\">\n",
       "  <thead>\n",
       "    <tr style=\"text-align: right;\">\n",
       "      <th></th>\n",
       "      <th>Open</th>\n",
       "      <th>High</th>\n",
       "      <th>Low</th>\n",
       "      <th>Close</th>\n",
       "      <th>Adj Close</th>\n",
       "      <th>Volume</th>\n",
       "      <th>company_name</th>\n",
       "    </tr>\n",
       "    <tr>\n",
       "      <th>Date</th>\n",
       "      <th></th>\n",
       "      <th></th>\n",
       "      <th></th>\n",
       "      <th></th>\n",
       "      <th></th>\n",
       "      <th></th>\n",
       "      <th></th>\n",
       "    </tr>\n",
       "  </thead>\n",
       "  <tbody>\n",
       "    <tr>\n",
       "      <th>2023-02-10</th>\n",
       "      <td>261.529999</td>\n",
       "      <td>264.089996</td>\n",
       "      <td>260.660004</td>\n",
       "      <td>263.100006</td>\n",
       "      <td>262.442657</td>\n",
       "      <td>25760900</td>\n",
       "      <td>MSFT</td>\n",
       "    </tr>\n",
       "    <tr>\n",
       "      <th>2023-02-13</th>\n",
       "      <td>267.640015</td>\n",
       "      <td>274.600006</td>\n",
       "      <td>267.149994</td>\n",
       "      <td>271.320007</td>\n",
       "      <td>270.642120</td>\n",
       "      <td>44630900</td>\n",
       "      <td>MSFT</td>\n",
       "    </tr>\n",
       "    <tr>\n",
       "      <th>2023-02-14</th>\n",
       "      <td>272.670013</td>\n",
       "      <td>274.970001</td>\n",
       "      <td>269.279999</td>\n",
       "      <td>272.170013</td>\n",
       "      <td>271.490021</td>\n",
       "      <td>37047900</td>\n",
       "      <td>MSFT</td>\n",
       "    </tr>\n",
       "    <tr>\n",
       "      <th>2023-02-15</th>\n",
       "      <td>268.320007</td>\n",
       "      <td>270.730011</td>\n",
       "      <td>266.179993</td>\n",
       "      <td>269.320007</td>\n",
       "      <td>269.320007</td>\n",
       "      <td>28962200</td>\n",
       "      <td>MSFT</td>\n",
       "    </tr>\n",
       "    <tr>\n",
       "      <th>2023-02-16</th>\n",
       "      <td>264.019989</td>\n",
       "      <td>266.739990</td>\n",
       "      <td>261.899994</td>\n",
       "      <td>262.149994</td>\n",
       "      <td>262.149994</td>\n",
       "      <td>29603600</td>\n",
       "      <td>MSFT</td>\n",
       "    </tr>\n",
       "    <tr>\n",
       "      <th>2023-02-17</th>\n",
       "      <td>259.390015</td>\n",
       "      <td>260.089996</td>\n",
       "      <td>256.000000</td>\n",
       "      <td>258.059998</td>\n",
       "      <td>258.059998</td>\n",
       "      <td>29979600</td>\n",
       "      <td>MSFT</td>\n",
       "    </tr>\n",
       "    <tr>\n",
       "      <th>2023-02-21</th>\n",
       "      <td>254.479996</td>\n",
       "      <td>255.490005</td>\n",
       "      <td>251.589996</td>\n",
       "      <td>252.669998</td>\n",
       "      <td>252.669998</td>\n",
       "      <td>28397400</td>\n",
       "      <td>MSFT</td>\n",
       "    </tr>\n",
       "    <tr>\n",
       "      <th>2023-02-22</th>\n",
       "      <td>254.089996</td>\n",
       "      <td>254.339996</td>\n",
       "      <td>250.339996</td>\n",
       "      <td>251.509995</td>\n",
       "      <td>251.509995</td>\n",
       "      <td>22491100</td>\n",
       "      <td>MSFT</td>\n",
       "    </tr>\n",
       "    <tr>\n",
       "      <th>2023-02-23</th>\n",
       "      <td>255.559998</td>\n",
       "      <td>256.839996</td>\n",
       "      <td>250.479996</td>\n",
       "      <td>254.770004</td>\n",
       "      <td>254.770004</td>\n",
       "      <td>29219100</td>\n",
       "      <td>MSFT</td>\n",
       "    </tr>\n",
       "    <tr>\n",
       "      <th>2023-02-24</th>\n",
       "      <td>249.960007</td>\n",
       "      <td>251.000000</td>\n",
       "      <td>248.100006</td>\n",
       "      <td>249.220001</td>\n",
       "      <td>249.220001</td>\n",
       "      <td>24978700</td>\n",
       "      <td>MSFT</td>\n",
       "    </tr>\n",
       "  </tbody>\n",
       "</table>\n",
       "</div>"
      ],
      "text/plain": [
       "                  Open        High         Low       Close   Adj Close  \\\n",
       "Date                                                                     \n",
       "2023-02-10  261.529999  264.089996  260.660004  263.100006  262.442657   \n",
       "2023-02-13  267.640015  274.600006  267.149994  271.320007  270.642120   \n",
       "2023-02-14  272.670013  274.970001  269.279999  272.170013  271.490021   \n",
       "2023-02-15  268.320007  270.730011  266.179993  269.320007  269.320007   \n",
       "2023-02-16  264.019989  266.739990  261.899994  262.149994  262.149994   \n",
       "2023-02-17  259.390015  260.089996  256.000000  258.059998  258.059998   \n",
       "2023-02-21  254.479996  255.490005  251.589996  252.669998  252.669998   \n",
       "2023-02-22  254.089996  254.339996  250.339996  251.509995  251.509995   \n",
       "2023-02-23  255.559998  256.839996  250.479996  254.770004  254.770004   \n",
       "2023-02-24  249.960007  251.000000  248.100006  249.220001  249.220001   \n",
       "\n",
       "              Volume company_name  \n",
       "Date                               \n",
       "2023-02-10  25760900         MSFT  \n",
       "2023-02-13  44630900         MSFT  \n",
       "2023-02-14  37047900         MSFT  \n",
       "2023-02-15  28962200         MSFT  \n",
       "2023-02-16  29603600         MSFT  \n",
       "2023-02-17  29979600         MSFT  \n",
       "2023-02-21  28397400         MSFT  \n",
       "2023-02-22  22491100         MSFT  \n",
       "2023-02-23  29219100         MSFT  \n",
       "2023-02-24  24978700         MSFT  "
      ]
     },
     "execution_count": 1,
     "metadata": {},
     "output_type": "execute_result"
    }
   ],
   "source": [
    "import pandas as pd\n",
    "import numpy as np\n",
    "\n",
    "import matplotlib.pyplot as plt\n",
    "import seaborn as sns\n",
    "sns.set_style('whitegrid')\n",
    "plt.style.use(\"fivethirtyeight\")\n",
    "%matplotlib inline\n",
    "\n",
    "# For reading stock data from yahoo\n",
    "from pandas_datareader.data import DataReader\n",
    "from pandas_datareader.yahoo.daily import YahooDailyReader\n",
    "import yfinance as yf\n",
    "\n",
    "# For time stamps\n",
    "from datetime import datetime\n",
    "\n",
    "\n",
    "# The tech stocks we'll use for this analysis\n",
    "tech_list = ['GOOG','MSFT']\n",
    "\n",
    "# Set up End and Start times for data grab\n",
    "\n",
    "end = datetime.now()\n",
    "start = datetime(end.year - 2, end.month, end.day)\n",
    "\n",
    "for stock in tech_list:\n",
    "    globals()[stock] = yf.download(stock, start, end)\n",
    "    \n",
    "\n",
    "company_list = [GOOG, MSFT]\n",
    "company_name = [\"GOOGLE\", \"MSFT\"]\n",
    "\n",
    "for company, com_name in zip(company_list, company_name):\n",
    "    company[\"company_name\"] = com_name\n",
    "    \n",
    "df = pd.concat(company_list, axis=0)\n",
    "df.tail(10)\n"
   ]
  },
  {
   "cell_type": "code",
   "execution_count": 3,
   "id": "59701d93",
   "metadata": {},
   "outputs": [
    {
     "data": {
      "text/html": [
       "<div>\n",
       "<style scoped>\n",
       "    .dataframe tbody tr th:only-of-type {\n",
       "        vertical-align: middle;\n",
       "    }\n",
       "\n",
       "    .dataframe tbody tr th {\n",
       "        vertical-align: top;\n",
       "    }\n",
       "\n",
       "    .dataframe thead th {\n",
       "        text-align: right;\n",
       "    }\n",
       "</style>\n",
       "<table border=\"1\" class=\"dataframe\">\n",
       "  <thead>\n",
       "    <tr style=\"text-align: right;\">\n",
       "      <th></th>\n",
       "      <th>Open</th>\n",
       "      <th>High</th>\n",
       "      <th>Low</th>\n",
       "      <th>Close</th>\n",
       "      <th>Adj Close</th>\n",
       "      <th>Volume</th>\n",
       "    </tr>\n",
       "  </thead>\n",
       "  <tbody>\n",
       "    <tr>\n",
       "      <th>count</th>\n",
       "      <td>504.000000</td>\n",
       "      <td>504.000000</td>\n",
       "      <td>504.000000</td>\n",
       "      <td>504.000000</td>\n",
       "      <td>504.000000</td>\n",
       "      <td>5.040000e+02</td>\n",
       "    </tr>\n",
       "    <tr>\n",
       "      <th>mean</th>\n",
       "      <td>120.252101</td>\n",
       "      <td>121.637277</td>\n",
       "      <td>118.887423</td>\n",
       "      <td>120.252290</td>\n",
       "      <td>120.252290</td>\n",
       "      <td>2.700641e+07</td>\n",
       "    </tr>\n",
       "    <tr>\n",
       "      <th>std</th>\n",
       "      <td>18.114736</td>\n",
       "      <td>18.035148</td>\n",
       "      <td>18.039786</td>\n",
       "      <td>18.043588</td>\n",
       "      <td>18.043588</td>\n",
       "      <td>1.062896e+07</td>\n",
       "    </tr>\n",
       "    <tr>\n",
       "      <th>min</th>\n",
       "      <td>85.510002</td>\n",
       "      <td>86.550003</td>\n",
       "      <td>83.449997</td>\n",
       "      <td>83.489998</td>\n",
       "      <td>83.489998</td>\n",
       "      <td>8.567800e+06</td>\n",
       "    </tr>\n",
       "    <tr>\n",
       "      <th>25%</th>\n",
       "      <td>103.619497</td>\n",
       "      <td>105.011000</td>\n",
       "      <td>102.375628</td>\n",
       "      <td>103.835499</td>\n",
       "      <td>103.835499</td>\n",
       "      <td>2.013650e+07</td>\n",
       "    </tr>\n",
       "    <tr>\n",
       "      <th>50%</th>\n",
       "      <td>118.453999</td>\n",
       "      <td>119.931000</td>\n",
       "      <td>117.117699</td>\n",
       "      <td>118.825001</td>\n",
       "      <td>118.825001</td>\n",
       "      <td>2.462850e+07</td>\n",
       "    </tr>\n",
       "    <tr>\n",
       "      <th>75%</th>\n",
       "      <td>137.111145</td>\n",
       "      <td>138.404129</td>\n",
       "      <td>135.722248</td>\n",
       "      <td>137.012375</td>\n",
       "      <td>137.012375</td>\n",
       "      <td>3.117700e+07</td>\n",
       "    </tr>\n",
       "    <tr>\n",
       "      <th>max</th>\n",
       "      <td>151.863495</td>\n",
       "      <td>152.100006</td>\n",
       "      <td>149.887497</td>\n",
       "      <td>150.709000</td>\n",
       "      <td>150.709000</td>\n",
       "      <td>9.779860e+07</td>\n",
       "    </tr>\n",
       "  </tbody>\n",
       "</table>\n",
       "</div>"
      ],
      "text/plain": [
       "             Open        High         Low       Close   Adj Close  \\\n",
       "count  504.000000  504.000000  504.000000  504.000000  504.000000   \n",
       "mean   120.252101  121.637277  118.887423  120.252290  120.252290   \n",
       "std     18.114736   18.035148   18.039786   18.043588   18.043588   \n",
       "min     85.510002   86.550003   83.449997   83.489998   83.489998   \n",
       "25%    103.619497  105.011000  102.375628  103.835499  103.835499   \n",
       "50%    118.453999  119.931000  117.117699  118.825001  118.825001   \n",
       "75%    137.111145  138.404129  135.722248  137.012375  137.012375   \n",
       "max    151.863495  152.100006  149.887497  150.709000  150.709000   \n",
       "\n",
       "             Volume  \n",
       "count  5.040000e+02  \n",
       "mean   2.700641e+07  \n",
       "std    1.062896e+07  \n",
       "min    8.567800e+06  \n",
       "25%    2.013650e+07  \n",
       "50%    2.462850e+07  \n",
       "75%    3.117700e+07  \n",
       "max    9.779860e+07  "
      ]
     },
     "execution_count": 3,
     "metadata": {},
     "output_type": "execute_result"
    }
   ],
   "source": [
    "GOOG.describe()"
   ]
  },
  {
   "cell_type": "code",
   "execution_count": 4,
   "id": "018b3e5f",
   "metadata": {},
   "outputs": [
    {
     "data": {
      "image/png": "[encoded data removed]",
      "text/plain": [
       "<Figure size 640x480 with 1 Axes>"
      ]
     },
     "metadata": {},
     "output_type": "display_data"
    }
   ],
   "source": [
    "df = DataReader('GOOG', data_source='stooq', start='2014-01-01', end=datetime.now())\n",
    "plt.title('Close Price History of GOOG')\n",
    "plt.plot(df['Close'])\n",
    "plt.xlabel('Date')\n",
    "plt.ylabel('Close Price (USD)')\n",
    "plt.show()"
   ]
  },
  {
   "cell_type": "code",
   "execution_count": 5,
   "id": "8049bf4a",
   "metadata": {},
   "outputs": [
    {
     "data": {
      "text/plain": [
       "1796"
      ]
     },
     "execution_count": 5,
     "metadata": {},
     "output_type": "execute_result"
    }
   ],
   "source": [
    "data = df.filter(items=['Close'])[-1::-1]\n",
    "dataset = data.values\n",
    "training_data_len = int(np.ceil(len(dataset) * 0.8))\n",
    "training_data_len"
   ]
  },
  {
   "cell_type": "code",
   "execution_count": 6,
   "id": "499c64c4",
   "metadata": {},
   "outputs": [
    {
     "data": {
      "text/plain": [
       "array([[0.02613786],\n",
       "       [0.02674461],\n",
       "       [0.02554697],\n",
       "       ...,\n",
       "       [0.53277047],\n",
       "       [0.52698056],\n",
       "       [0.51333859]])"
      ]
     },
     "execution_count": 6,
     "metadata": {},
     "output_type": "execute_result"
    }
   ],
   "source": [
    "from sklearn.preprocessing import MinMaxScaler\n",
    "\n",
    "scaler = MinMaxScaler(feature_range=(0,1))\n",
    "scaled_data = scaler.fit_transform(dataset)\n",
    "\n",
    "scaled_data"
   ]
  },
  {
   "cell_type": "markdown",
   "id": "48870011",
   "metadata": {},
   "source": [
    "## Training Data"
   ]
  },
  {
   "cell_type": "code",
   "execution_count": 10,
   "id": "7c017dc2",
   "metadata": {},
   "outputs": [
    {
     "name": "stdout",
     "output_type": "stream",
     "text": [
      "\n",
      "\n"
     ]
    },
    {
     "data": {
      "text/plain": [
       "(1696, 100, 1)"
      ]
     },
     "execution_count": 10,
     "metadata": {},
     "output_type": "execute_result"
    }
   ],
   "source": [
    "# Create the training data set \n",
    "# Create the scaled training data set\n",
    "train_data = scaled_data[0:int(training_data_len), :]\n",
    "# Split the data into x_train and y_train data sets\n",
    "x_train = []\n",
    "y_train = []\n",
    "\n",
    "\n",
    "dat_size = 100\n",
    "\n",
    "for i in range(dat_size, len(train_data)):\n",
    "    x_train.append(train_data[i-dat_size:i, 0])\n",
    "    y_train.append(train_data[i, 0])\n",
    "    if i<= dat_size+1:\n",
    "        #print(x_train)\n",
    "        #print(y_train)\n",
    "        print()\n",
    "        \n",
    "# Convert the x_train and y_train to numpy arrays \n",
    "x_train, y_train = np.array(x_train), np.array(y_train)\n",
    "\n",
    "# Reshape the data\n",
    "x_train = np.reshape(x_train, (x_train.shape[0], x_train.shape[1], 1))\n",
    "x_train.shape"
   ]
  },
  {
   "cell_type": "markdown",
   "id": "f4f2f0c2",
   "metadata": {},
   "source": [
    "## Testing Data"
   ]
  },
  {
   "cell_type": "code",
   "execution_count": 11,
   "id": "b082a74f",
   "metadata": {},
   "outputs": [
    {
     "data": {
      "text/plain": [
       "(449, 100, 1)"
      ]
     },
     "execution_count": 11,
     "metadata": {},
     "output_type": "execute_result"
    }
   ],
   "source": [
    "# Create the testing data set\n",
    "# Create a new array containing scaled values from index 1543 to 2002 \n",
    "test_data = scaled_data[training_data_len - dat_size: , :]\n",
    "# Create the data sets x_test and y_test\n",
    "x_test = []\n",
    "y_test = dataset[training_data_len:, :]\n",
    "for i in range(dat_size, len(test_data)):\n",
    "    x_test.append(test_data[i-dat_size:i, 0])\n",
    "    \n",
    "# Convert the data to a numpy array\n",
    "x_test = np.array(x_test)\n",
    "\n",
    "# Reshape the data\n",
    "x_test = np.reshape(x_test, (x_test.shape[0], x_test.shape[1], 1 ))\n",
    "x_test.shape"
   ]
  },
  {
   "cell_type": "code",
   "execution_count": 12,
   "id": "e8935450",
   "metadata": {},
   "outputs": [],
   "source": [
    "import tensorflow as tf\n",
    "from tensorflow.keras import layers\n",
    "from tensorflow import keras\n",
    "from tensorflow.keras.layers import RNN, LSTMCell\n",
    "from tensorflow.keras.backend import dot\n",
    "from tensorflow.keras import activations, initializers\n",
    "from keras.models import Sequential\n",
    "from keras.layers import Dense, LSTM"
   ]
  },
  {
   "cell_type": "code",
   "execution_count": 13,
   "id": "b6fb4330",
   "metadata": {},
   "outputs": [],
   "source": [
    "import pennylane as qml\n",
    "from pennylane import optimize\n",
    "import matplotlib.pyplot as plt"
   ]
  },
  {
   "cell_type": "code",
   "execution_count": 14,
   "id": "76784d10",
   "metadata": {},
   "outputs": [],
   "source": [
    "tf.keras.backend.set_floatx('float64')"
   ]
  },
  {
   "cell_type": "markdown",
   "id": "7f7efabb",
   "metadata": {},
   "source": [
    "# Preparing Quantum memory layer"
   ]
  },
  {
   "cell_type": "code",
   "execution_count": 15,
   "id": "0591250d",
   "metadata": {},
   "outputs": [],
   "source": [
    "from CV_quantum_layers import CV_Encoding, CV_Measurement, Activation_Layer\n",
    "from CV_quantum_layers import build_cv_quantum_node, QuantumLayer_MultiQunode"
   ]
  },
  {
   "cell_type": "code",
   "execution_count": 16,
   "id": "391b78f1",
   "metadata": {},
   "outputs": [],
   "source": [
    "encode_AP = CV_Encoding('Amplitude_Phase')\n",
    "Qrelu = Activation_Layer('ReLU', encode_AP)\n",
    "Qsig = Activation_Layer('Sigmoid', encode_AP)\n",
    "Qtanh = Activation_Layer('TanH', encode_AP)"
   ]
  },
  {
   "cell_type": "markdown",
   "id": "cba44a6c",
   "metadata": {},
   "source": [
    "### Circuit definition"
   ]
  },
  {
   "cell_type": "code",
   "execution_count": 32,
   "id": "e88988c2",
   "metadata": {},
   "outputs": [],
   "source": [
    "cutoff = 10\n",
    "\n",
    "dev = qml.device('strawberryfields.fock', wires=4, cutoff_dim=cutoff)\n",
    "@qml.qnode(dev)\n",
    "        \n",
    "\n",
    "def qnode(inputs, y_ft, itC):\n",
    "\n",
    "    '''SQUEEZE INITIALIZATION'''\n",
    "    # Use previous expectation values to create a squeezed vacuum state for each qumode\n",
    "    for i in range(4):\n",
    "        qml.SqueezedState(inputs[0][i], 0.0, wires=i) \n",
    "\n",
    "\n",
    "    '''ROTATION LAYER'''\n",
    "    # shape of y_ft: (1,4), values have been hard sigmoided\n",
    "    # ex. [[0.1, 1, 0.5, 0]]\n",
    "\n",
    "    #scaling to [0,2π]\n",
    "    y_ft = 2 * np.pi * y_ft\n",
    "\n",
    "    for i in range(4):\n",
    "        qml.Rotation(y_ft[0][i], wires=i)\n",
    "\n",
    "\n",
    "    '''DISPLACEMENT LAYER'''\n",
    "    # shape of itC: (1,4), values have been hard sigmoided\n",
    "\n",
    "    # scale itC to half of cutoff dimension to help with normalization\n",
    "    itC = itC * cutoff / 2\n",
    "\n",
    "    for i in range(4):\n",
    "        qml.Displacement(itC[0][i], 0.0, wires=i)\n",
    "        \n",
    "\n",
    "    '''MEASUREMENT'''\n",
    "\n",
    "    return [qml.expval(qml.X(i)) for i in range(4)]\n",
    "\n",
    "\n",
    "'''\n",
    "# Defining mamory_update as a keras layer\n",
    "weight_shapes = {\"y_ft\": (1, 4), \"itC\": (1, 4)}\n",
    "\n",
    "qlayer = qml.qnn.KerasLayer(qnode, weight_shapes, output_dim=4)'''\n",
    "\n",
    "@tf.function\n",
    "def tf_qnode(c, y_ft, itC):\n",
    "    return tf.constant(qnode(c, y_ft, itC))"
   ]
  },
  {
   "cell_type": "markdown",
   "id": "1c19f7a8",
   "metadata": {},
   "source": [
    "# Defining our network"
   ]
  },
  {
   "cell_type": "code",
   "execution_count": 37,
   "id": "f3bd3b39",
   "metadata": {},
   "outputs": [],
   "source": [
    "class LSTM(tf.keras.layers.Layer):\n",
    "    def __init__(self, units, **kwargs):\n",
    "        self.units = units\n",
    "        self.state_size = [self.units, self.units]\n",
    "        \n",
    "        self.activation = activations.get('tanh')\n",
    "        self.recurrent_activation = activations.get('hard_sigmoid')\n",
    "        self.kernel_initializer = initializers.get('glorot_uniform')\n",
    "        self.recurrent_initializer = initializers.get('orthogonal')\n",
    "        self.bias_initializer = initializers.get('zeros')\n",
    "        \n",
    "        \n",
    "        super(LSTM, self).__init__(**kwargs)\n",
    "\n",
    "    def build(self, input_shape):\n",
    "        self.ft = self.add_weight(shape=(input_shape[-1] + self.units, self.units),\n",
    "                                      initializer=self.kernel_initializer,\n",
    "                                      name='ft')\n",
    "        self.ft_b = self.add_weight(shape=(self.units),\n",
    "                                      initializer=self.bias_initializer,\n",
    "                                      name='ft_b')\n",
    "        self.c = self.add_weight(shape=(input_shape[-1] + self.units, self.units),\n",
    "                                      initializer=self.kernel_initializer,\n",
    "                                      name='ct')\n",
    "        self.c_b = self.add_weight(shape=(self.units),\n",
    "                                      initializer=self.bias_initializer,\n",
    "                                      name='c_b')\n",
    "        self.o = self.add_weight(shape=(input_shape[-1] + self.units, self.units),\n",
    "                                      initializer=self.kernel_initializer,\n",
    "                                      name='ot')\n",
    "        self.o_b = self.add_weight(shape=(self.units),\n",
    "                                      initializer=self.bias_initializer,\n",
    "                                      name='o_b')\n",
    "        self.it = self.add_weight(shape=(input_shape[-1] + self.units, self.units),\n",
    "                                      initializer=self.kernel_initializer,\n",
    "                                      name='it')\n",
    "        self.it_b = self.add_weight(shape=(self.units),\n",
    "                                      initializer=self.bias_initializer,\n",
    "                                      name='i_b')\n",
    "        \n",
    "        self.built = True\n",
    "        \n",
    "\n",
    "    def call(self, inputs, states):\n",
    "        h,c = states[0], states[1]\n",
    "        \n",
    "        x = tf.concat([h,inputs], axis=-1)\n",
    "        \n",
    "        y_ft = self.recurrent_activation(dot(x, self.ft) + self.ft_b)\n",
    "        #print(f'y_ft: {y_ft.shape}')\n",
    "        \n",
    "        y_it = self.recurrent_activation(dot(x, self.it) + self.it_b)\n",
    "        \n",
    "        y_c = self.activation(dot(x, self.c) + self.c_b)\n",
    "        \n",
    "        itC = y_it * y_c\n",
    "        #print(f'itC: {itC}')\n",
    "        \n",
    "        \n",
    "        '''\n",
    "        QUANTUM MEMORY SEGMENT:\n",
    "        '''\n",
    "        # returns expectation values from quantum memory circuit\n",
    "        c_list = qnode(c, y_ft, itC)\n",
    "        #print(c_list)\n",
    "        c = tf.reshape(c_list, (1, 4))\n",
    "        \n",
    "        \n",
    "        y_o = self.recurrent_activation(dot(x, self.o) + self.o_b)\n",
    "        \n",
    "        \n",
    "        h = y_o * self.activation(c)\n",
    "        \n",
    "        output = h\n",
    "        \n",
    "        return output, [h,c]"
   ]
  },
  {
   "cell_type": "markdown",
   "id": "a22faf07",
   "metadata": {},
   "source": [
    "# Compiling/Training the model"
   ]
  },
  {
   "cell_type": "code",
   "execution_count": null,
   "id": "7200d370",
   "metadata": {},
   "outputs": [],
   "source": [
    "# Build the LSTM model\n",
    "#cell = LSTM(8)\n",
    "#layer = RNN(cell, return_sequences=True)\n",
    "\n",
    "cell2 = LSTM(4)   # first argument needs to be 4 (number of wires)\n",
    "layer2 = RNN(cell2, return_sequences=False)\n",
    "model = Sequential()\n",
    "#model.add(layer)\n",
    "model.add(layer2)\n",
    "model.add(Dense(35))\n",
    "model.add(Dense(1))\n",
    "\n",
    "# Compile the model\n",
    "model.compile(optimizer='adam', loss='mean_squared_error', run_eagerly=True)\n",
    "\n",
    "# Train the model\n",
    "model.fit(x_train, y_train, batch_size=1, epochs=1, verbose=1)"
   ]
  },
  {
   "cell_type": "code",
   "execution_count": null,
   "id": "4c3595bb",
   "metadata": {},
   "outputs": [
    {
     "name": "stdout",
     "output_type": "stream",
     "text": [
      "(449, 1, 100, 1)\n"
     ]
    }
   ],
   "source": [
    "#Create the testing data set\n",
    "# Create a new array containing scaled values from index 1543 to 2002 \n",
    "test_data = scaled_data[training_data_len - dat_size: , :]\n",
    "# Create the data sets x_test and y_test\n",
    "x_test = []\n",
    "y_test = dataset[training_data_len:, :]\n",
    "for i in range(dat_size, len(test_data)):\n",
    "    x_test.append(test_data[i-dat_size:i, 0])\n",
    "    \n",
    "# Convert the data to a numpy array\n",
    "x_test = np.array(x_test)\n",
    "\n",
    "\n",
    "# Reshape the data\n",
    "x_test = np.reshape(x_test, (x_test.shape[0], 1, x_test.shape[1], 1))\n",
    "print(x_test.shape)\n",
    "# Get the models predicted price values \n",
    "predictions = model.predict(x_test)\n",
    "predictions = scaler.inverse_transform(predictions)\n",
    "\n",
    "'''forecast = np.zeros([len(x_test), 1])\n",
    "x_now = x_test[0].reshape(1,x_test.shape[1],1)\n",
    "print(x_now[0])\n",
    "for i in range(len(forecast)):\n",
    "    x_ = model.predict(x_now)\n",
    "        \n",
    "    #orecast[i] = x_\n",
    "    \n",
    "    x_now[:][:-1] = x_now[:][1:]\n",
    "    if (i%len(forecast) == 0):\n",
    "        x_now[:][-1] = x_test[i]\n",
    "    else:\n",
    "        x_now[:][-1] = x_\n",
    "\n",
    "forecast = scaler.inverse_transform(forecast)'''\n",
    "\n",
    "\n",
    "# Get the root mean squared error (RMSE)\n",
    "rmse = np.sqrt(np.mean(((predictions - y_test) ** 2)))\n",
    "print(rmse)\n",
    "\n",
    "#rmse2 = np.sqrt(np.mean(((forecast - y_test) ** 2)))"
   ]
  },
  {
   "cell_type": "code",
   "execution_count": null,
   "id": "a2054d9f",
   "metadata": {},
   "outputs": [],
   "source": [
    "# Plot the data\n",
    "train = data[:training_data_len]\n",
    "valid = data[training_data_len:]\n",
    "valid['Predictions'] = predictions\n",
    "#valid['Forecast'] = forecast\n",
    "\n",
    "# Visualize the data\n",
    "plt.figure(figsize=(16,6))\n",
    "plt.title('Model')\n",
    "plt.xlabel('Date', fontsize=18)\n",
    "plt.ylabel('Close Price USD ($)', fontsize=18)\n",
    "plt.plot(train['Close'])\n",
    "plt.plot(valid[['Close', 'Predictions']])\n",
    "plt.legend(['Train', 'Val', 'Predictions'], loc='lower right')\n",
    "plt.show()"
   ]
  },
  {
   "cell_type": "code",
   "execution_count": 332,
   "id": "88115abd",
   "metadata": {},
   "outputs": [
    {
     "ename": "NameError",
     "evalue": "name 'predictions' is not defined",
     "output_type": "error",
     "traceback": [
      "\u001b[1;31m---------------------------------------------------------------------------\u001b[0m",
      "\u001b[1;31mNameError\u001b[0m                                 Traceback (most recent call last)",
      "Cell \u001b[1;32mIn[332], line 1\u001b[0m\n\u001b[1;32m----> 1\u001b[0m \u001b[43mpredictions\u001b[49m\n",
      "\u001b[1;31mNameError\u001b[0m: name 'predictions' is not defined"
     ]
    }
   ],
   "source": [
    "predictions"
   ]
  },
  {
   "cell_type": "code",
   "execution_count": null,
   "id": "c7753119",
   "metadata": {},
   "outputs": [],
   "source": []
  }
 ],
 "metadata": {
  "kernelspec": {
   "display_name": "Python 3 (ipykernel)",
   "language": "python",
   "name": "python3"
  },
  "language_info": {
   "codemirror_mode": {
    "name": "ipython",
    "version": 3
   },
   "file_extension": ".py",
   "mimetype": "text/x-python",
   "name": "python",
   "nbconvert_exporter": "python",
   "pygments_lexer": "ipython3",
   "version": "3.10.9"
  }
 },
 "nbformat": 4,
 "nbformat_minor": 5
}
