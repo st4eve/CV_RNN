{
 "cells": [
  {
   "cell_type": "markdown",
   "id": "bfaa1d40",
   "metadata": {},
   "source": [
    "# Data Preparation"
   ]
  },
  {
   "cell_type": "code",
   "execution_count": 2,
   "id": "36a8945a",
   "metadata": {},
   "outputs": [
    {
     "name": "stdout",
     "output_type": "stream",
     "text": [
      "[*********************100%***********************]  1 of 1 completed\n",
      "[*********************100%***********************]  1 of 1 completed\n"
     ]
    },
    {
     "data": {
      "text/html": [
       "<div>\n",
       "<style scoped>\n",
       "    .dataframe tbody tr th:only-of-type {\n",
       "        vertical-align: middle;\n",
       "    }\n",
       "\n",
       "    .dataframe tbody tr th {\n",
       "        vertical-align: top;\n",
       "    }\n",
       "\n",
       "    .dataframe thead th {\n",
       "        text-align: right;\n",
       "    }\n",
       "</style>\n",
       "<table border=\"1\" class=\"dataframe\">\n",
       "  <thead>\n",
       "    <tr style=\"text-align: right;\">\n",
       "      <th></th>\n",
       "      <th>Open</th>\n",
       "      <th>High</th>\n",
       "      <th>Low</th>\n",
       "      <th>Close</th>\n",
       "      <th>Adj Close</th>\n",
       "      <th>Volume</th>\n",
       "      <th>company_name</th>\n",
       "    </tr>\n",
       "    <tr>\n",
       "      <th>Date</th>\n",
       "      <th></th>\n",
       "      <th></th>\n",
       "      <th></th>\n",
       "      <th></th>\n",
       "      <th></th>\n",
       "      <th></th>\n",
       "      <th></th>\n",
       "    </tr>\n",
       "  </thead>\n",
       "  <tbody>\n",
       "    <tr>\n",
       "      <th>2023-02-02</th>\n",
       "      <td>258.820007</td>\n",
       "      <td>264.690002</td>\n",
       "      <td>257.250000</td>\n",
       "      <td>264.600006</td>\n",
       "      <td>264.600006</td>\n",
       "      <td>39940400</td>\n",
       "      <td>MSFT</td>\n",
       "    </tr>\n",
       "    <tr>\n",
       "      <th>2023-02-03</th>\n",
       "      <td>259.540009</td>\n",
       "      <td>264.200012</td>\n",
       "      <td>257.100006</td>\n",
       "      <td>258.350006</td>\n",
       "      <td>258.350006</td>\n",
       "      <td>29062300</td>\n",
       "      <td>MSFT</td>\n",
       "    </tr>\n",
       "    <tr>\n",
       "      <th>2023-02-06</th>\n",
       "      <td>257.440002</td>\n",
       "      <td>258.299988</td>\n",
       "      <td>254.779999</td>\n",
       "      <td>256.769989</td>\n",
       "      <td>256.769989</td>\n",
       "      <td>22518000</td>\n",
       "      <td>MSFT</td>\n",
       "    </tr>\n",
       "    <tr>\n",
       "      <th>2023-02-07</th>\n",
       "      <td>260.529999</td>\n",
       "      <td>268.769989</td>\n",
       "      <td>260.079987</td>\n",
       "      <td>267.559998</td>\n",
       "      <td>267.559998</td>\n",
       "      <td>50841400</td>\n",
       "      <td>MSFT</td>\n",
       "    </tr>\n",
       "    <tr>\n",
       "      <th>2023-02-08</th>\n",
       "      <td>273.200012</td>\n",
       "      <td>276.760010</td>\n",
       "      <td>266.209991</td>\n",
       "      <td>266.730011</td>\n",
       "      <td>266.730011</td>\n",
       "      <td>54686000</td>\n",
       "      <td>MSFT</td>\n",
       "    </tr>\n",
       "    <tr>\n",
       "      <th>2023-02-09</th>\n",
       "      <td>273.799988</td>\n",
       "      <td>273.980011</td>\n",
       "      <td>262.799988</td>\n",
       "      <td>263.619995</td>\n",
       "      <td>263.619995</td>\n",
       "      <td>42375100</td>\n",
       "      <td>MSFT</td>\n",
       "    </tr>\n",
       "    <tr>\n",
       "      <th>2023-02-10</th>\n",
       "      <td>261.529999</td>\n",
       "      <td>264.089996</td>\n",
       "      <td>260.660004</td>\n",
       "      <td>263.100006</td>\n",
       "      <td>263.100006</td>\n",
       "      <td>25760900</td>\n",
       "      <td>MSFT</td>\n",
       "    </tr>\n",
       "    <tr>\n",
       "      <th>2023-02-13</th>\n",
       "      <td>267.640015</td>\n",
       "      <td>274.600006</td>\n",
       "      <td>267.149994</td>\n",
       "      <td>271.320007</td>\n",
       "      <td>271.320007</td>\n",
       "      <td>44630900</td>\n",
       "      <td>MSFT</td>\n",
       "    </tr>\n",
       "    <tr>\n",
       "      <th>2023-02-14</th>\n",
       "      <td>272.670013</td>\n",
       "      <td>274.970001</td>\n",
       "      <td>269.279999</td>\n",
       "      <td>272.170013</td>\n",
       "      <td>272.170013</td>\n",
       "      <td>37047900</td>\n",
       "      <td>MSFT</td>\n",
       "    </tr>\n",
       "    <tr>\n",
       "      <th>2023-02-15</th>\n",
       "      <td>268.320007</td>\n",
       "      <td>270.730011</td>\n",
       "      <td>266.179993</td>\n",
       "      <td>269.320007</td>\n",
       "      <td>269.320007</td>\n",
       "      <td>28369462</td>\n",
       "      <td>MSFT</td>\n",
       "    </tr>\n",
       "  </tbody>\n",
       "</table>\n",
       "</div>"
      ],
      "text/plain": [
       "                  Open        High         Low       Close   Adj Close  \\\n",
       "Date                                                                     \n",
       "2023-02-02  258.820007  264.690002  257.250000  264.600006  264.600006   \n",
       "2023-02-03  259.540009  264.200012  257.100006  258.350006  258.350006   \n",
       "2023-02-06  257.440002  258.299988  254.779999  256.769989  256.769989   \n",
       "2023-02-07  260.529999  268.769989  260.079987  267.559998  267.559998   \n",
       "2023-02-08  273.200012  276.760010  266.209991  266.730011  266.730011   \n",
       "2023-02-09  273.799988  273.980011  262.799988  263.619995  263.619995   \n",
       "2023-02-10  261.529999  264.089996  260.660004  263.100006  263.100006   \n",
       "2023-02-13  267.640015  274.600006  267.149994  271.320007  271.320007   \n",
       "2023-02-14  272.670013  274.970001  269.279999  272.170013  272.170013   \n",
       "2023-02-15  268.320007  270.730011  266.179993  269.320007  269.320007   \n",
       "\n",
       "              Volume company_name  \n",
       "Date                               \n",
       "2023-02-02  39940400         MSFT  \n",
       "2023-02-03  29062300         MSFT  \n",
       "2023-02-06  22518000         MSFT  \n",
       "2023-02-07  50841400         MSFT  \n",
       "2023-02-08  54686000         MSFT  \n",
       "2023-02-09  42375100         MSFT  \n",
       "2023-02-10  25760900         MSFT  \n",
       "2023-02-13  44630900         MSFT  \n",
       "2023-02-14  37047900         MSFT  \n",
       "2023-02-15  28369462         MSFT  "
      ]
     },
     "execution_count": 2,
     "metadata": {},
     "output_type": "execute_result"
    }
   ],
   "source": [
    "import pandas as pd\n",
    "import numpy as np\n",
    "\n",
    "import matplotlib.pyplot as plt\n",
    "import seaborn as sns\n",
    "sns.set_style('whitegrid')\n",
    "plt.style.use(\"fivethirtyeight\")\n",
    "%matplotlib inline\n",
    "\n",
    "# For reading stock data from yahoo\n",
    "from pandas_datareader.data import DataReader\n",
    "from pandas_datareader.yahoo.daily import YahooDailyReader\n",
    "import yfinance as yf\n",
    "\n",
    "# For time stamps\n",
    "from datetime import datetime\n",
    "\n",
    "\n",
    "# The tech stocks we'll use for this analysis\n",
    "tech_list = ['GOOG','MSFT']\n",
    "\n",
    "# Set up End and Start times for data grab\n",
    "\n",
    "end = datetime.now()\n",
    "start = datetime(end.year - 2, end.month, end.day)\n",
    "\n",
    "for stock in tech_list:\n",
    "    globals()[stock] = yf.download(stock, start, end)\n",
    "    \n",
    "\n",
    "company_list = [GOOG, MSFT]\n",
    "company_name = [\"GOOGLE\", \"MSFT\"]\n",
    "\n",
    "for company, com_name in zip(company_list, company_name):\n",
    "    company[\"company_name\"] = com_name\n",
    "    \n",
    "df = pd.concat(company_list, axis=0)\n",
    "df.tail(10)\n"
   ]
  },
  {
   "cell_type": "code",
   "execution_count": 3,
   "id": "59701d93",
   "metadata": {},
   "outputs": [
    {
     "data": {
      "text/html": [
       "<div>\n",
       "<style scoped>\n",
       "    .dataframe tbody tr th:only-of-type {\n",
       "        vertical-align: middle;\n",
       "    }\n",
       "\n",
       "    .dataframe tbody tr th {\n",
       "        vertical-align: top;\n",
       "    }\n",
       "\n",
       "    .dataframe thead th {\n",
       "        text-align: right;\n",
       "    }\n",
       "</style>\n",
       "<table border=\"1\" class=\"dataframe\">\n",
       "  <thead>\n",
       "    <tr style=\"text-align: right;\">\n",
       "      <th></th>\n",
       "      <th>Open</th>\n",
       "      <th>High</th>\n",
       "      <th>Low</th>\n",
       "      <th>Close</th>\n",
       "      <th>Adj Close</th>\n",
       "      <th>Volume</th>\n",
       "    </tr>\n",
       "  </thead>\n",
       "  <tbody>\n",
       "    <tr>\n",
       "      <th>count</th>\n",
       "      <td>505.000000</td>\n",
       "      <td>505.000000</td>\n",
       "      <td>505.000000</td>\n",
       "      <td>505.000000</td>\n",
       "      <td>505.000000</td>\n",
       "      <td>5.050000e+02</td>\n",
       "    </tr>\n",
       "    <tr>\n",
       "      <th>mean</th>\n",
       "      <td>120.352293</td>\n",
       "      <td>121.751908</td>\n",
       "      <td>118.998882</td>\n",
       "      <td>120.371261</td>\n",
       "      <td>120.371261</td>\n",
       "      <td>2.693796e+07</td>\n",
       "    </tr>\n",
       "    <tr>\n",
       "      <th>std</th>\n",
       "      <td>17.950696</td>\n",
       "      <td>17.850693</td>\n",
       "      <td>17.866354</td>\n",
       "      <td>17.857718</td>\n",
       "      <td>17.857718</td>\n",
       "      <td>1.061507e+07</td>\n",
       "    </tr>\n",
       "    <tr>\n",
       "      <th>min</th>\n",
       "      <td>85.510002</td>\n",
       "      <td>86.550003</td>\n",
       "      <td>83.449997</td>\n",
       "      <td>83.489998</td>\n",
       "      <td>83.489998</td>\n",
       "      <td>8.567800e+06</td>\n",
       "    </tr>\n",
       "    <tr>\n",
       "      <th>25%</th>\n",
       "      <td>103.801498</td>\n",
       "      <td>105.905502</td>\n",
       "      <td>103.019997</td>\n",
       "      <td>104.625999</td>\n",
       "      <td>104.625999</td>\n",
       "      <td>2.014000e+07</td>\n",
       "    </tr>\n",
       "    <tr>\n",
       "      <th>50%</th>\n",
       "      <td>118.420998</td>\n",
       "      <td>119.862000</td>\n",
       "      <td>117.116898</td>\n",
       "      <td>118.779999</td>\n",
       "      <td>118.779999</td>\n",
       "      <td>2.459600e+07</td>\n",
       "    </tr>\n",
       "    <tr>\n",
       "      <th>75%</th>\n",
       "      <td>137.109695</td>\n",
       "      <td>138.399506</td>\n",
       "      <td>135.699997</td>\n",
       "      <td>137.004501</td>\n",
       "      <td>137.004501</td>\n",
       "      <td>3.100090e+07</td>\n",
       "    </tr>\n",
       "    <tr>\n",
       "      <th>max</th>\n",
       "      <td>151.863495</td>\n",
       "      <td>152.100006</td>\n",
       "      <td>149.887497</td>\n",
       "      <td>150.709000</td>\n",
       "      <td>150.709000</td>\n",
       "      <td>9.779860e+07</td>\n",
       "    </tr>\n",
       "  </tbody>\n",
       "</table>\n",
       "</div>"
      ],
      "text/plain": [
       "             Open        High         Low       Close   Adj Close  \\\n",
       "count  505.000000  505.000000  505.000000  505.000000  505.000000   \n",
       "mean   120.352293  121.751908  118.998882  120.371261  120.371261   \n",
       "std     17.950696   17.850693   17.866354   17.857718   17.857718   \n",
       "min     85.510002   86.550003   83.449997   83.489998   83.489998   \n",
       "25%    103.801498  105.905502  103.019997  104.625999  104.625999   \n",
       "50%    118.420998  119.862000  117.116898  118.779999  118.779999   \n",
       "75%    137.109695  138.399506  135.699997  137.004501  137.004501   \n",
       "max    151.863495  152.100006  149.887497  150.709000  150.709000   \n",
       "\n",
       "             Volume  \n",
       "count  5.050000e+02  \n",
       "mean   2.693796e+07  \n",
       "std    1.061507e+07  \n",
       "min    8.567800e+06  \n",
       "25%    2.014000e+07  \n",
       "50%    2.459600e+07  \n",
       "75%    3.100090e+07  \n",
       "max    9.779860e+07  "
      ]
     },
     "execution_count": 3,
     "metadata": {},
     "output_type": "execute_result"
    }
   ],
   "source": [
    "GOOG.describe()"
   ]
  },
  {
   "cell_type": "code",
   "execution_count": 4,
   "id": "018b3e5f",
   "metadata": {},
   "outputs": [
    {
     "data": {
      "image/png": "[encoded data removed]",
      "text/plain": [
       "<Figure size 640x480 with 1 Axes>"
      ]
     },
     "metadata": {},
     "output_type": "display_data"
    }
   ],
   "source": [
    "df = DataReader('GOOG', data_source='stooq', start='2014-01-01', end=datetime.now())\n",
    "plt.title('Close Price History of GOOG')\n",
    "plt.plot(df['Close'])\n",
    "plt.xlabel('Date')\n",
    "plt.ylabel('Close Price (USD)')\n",
    "plt.show()"
   ]
  },
  {
   "cell_type": "code",
   "execution_count": 5,
   "id": "8049bf4a",
   "metadata": {},
   "outputs": [
    {
     "data": {
      "text/plain": [
       "1792"
      ]
     },
     "execution_count": 5,
     "metadata": {},
     "output_type": "execute_result"
    }
   ],
   "source": [
    "data = df.filter(items=['Close'])[-1::-1]\n",
    "dataset = data.values\n",
    "training_data_len = int(np.ceil(len(dataset) * 0.8))\n",
    "training_data_len"
   ]
  },
  {
   "cell_type": "code",
   "execution_count": 6,
   "id": "499c64c4",
   "metadata": {},
   "outputs": [
    {
     "data": {
      "text/plain": [
       "array([[0.02613786],\n",
       "       [0.02674461],\n",
       "       [0.02554697],\n",
       "       ...,\n",
       "       [0.55815088],\n",
       "       [0.55775431],\n",
       "       [0.57480677]])"
      ]
     },
     "execution_count": 6,
     "metadata": {},
     "output_type": "execute_result"
    }
   ],
   "source": [
    "from sklearn.preprocessing import MinMaxScaler\n",
    "\n",
    "scaler = MinMaxScaler(feature_range=(0,1))\n",
    "scaled_data = scaler.fit_transform(dataset)\n",
    "\n",
    "scaled_data"
   ]
  },
  {
   "cell_type": "markdown",
   "id": "48870011",
   "metadata": {},
   "source": [
    "## Training Data"
   ]
  },
  {
   "cell_type": "code",
   "execution_count": 7,
   "id": "7c017dc2",
   "metadata": {},
   "outputs": [
    {
     "name": "stdout",
     "output_type": "stream",
     "text": [
      "[array([0.02613786, 0.02674461, 0.02554697, 0.029588  , 0.02952455,\n",
      "       0.03061115, 0.02006242, 0.01808354, 0.02472607, 0.02839037,\n",
      "       0.01919393, 0.01508945, 0.01585086, 0.01740541, 0.02537644,\n",
      "       0.01727057, 0.01430424, 0.016759  , 0.013638  , 0.01293211,\n",
      "       0.00937092, 0.00975559, 0.0139394 , 0.01352696, 0.01538687,\n",
      "       0.01403061, 0.01398302, 0.00895849, 0.00690426, 0.0073167 ,\n",
      "       0.01038217, 0.01481978, 0.0160769 , 0.013523  , 0.01087788,\n",
      "       0.01113565, 0.01439942, 0.01476029, 0.01839683, 0.02082383,\n",
      "       0.02385362, 0.02910816, 0.02741481, 0.0267803 , 0.02670495,\n",
      "       0.0243414 , 0.02077624, 0.0206652 , 0.0243295 , 0.02529316,\n",
      "       0.0275893 , 0.02696668, 0.02628855, 0.02331825, 0.02348084,\n",
      "       0.02051451, 0.02001087, 0.02411932, 0.02472607, 0.02530506,\n",
      "       0.02871159, 0.02858072, 0.03414458, 0.03309367, 0.03358542,\n",
      "       0.03280814, 0.03573879, 0.03560792, 0.03655572, 0.03557223,\n",
      "       0.03114652, 0.0331254 , 0.03115049, 0.03435476, 0.03661124,\n",
      "       0.03657555, 0.03573482, 0.03219346, 0.04066021, 0.03843546,\n",
      "       0.04052537, 0.04101712, 0.03997414, 0.038257  , 0.03888358,\n",
      "       0.0369047 , 0.03762249, 0.03134877, 0.02915574, 0.03196345,\n",
      "       0.02875918, 0.02927472, 0.02808104, 0.03022648, 0.02987353,\n",
      "       0.0278312 , 0.03260986, 0.03255831, 0.03209432, 0.03553654])]\n",
      "[0.03740041163850363]\n",
      "\n",
      "[array([0.02613786, 0.02674461, 0.02554697, 0.029588  , 0.02952455,\n",
      "       0.03061115, 0.02006242, 0.01808354, 0.02472607, 0.02839037,\n",
      "       0.01919393, 0.01508945, 0.01585086, 0.01740541, 0.02537644,\n",
      "       0.01727057, 0.01430424, 0.016759  , 0.013638  , 0.01293211,\n",
      "       0.00937092, 0.00975559, 0.0139394 , 0.01352696, 0.01538687,\n",
      "       0.01403061, 0.01398302, 0.00895849, 0.00690426, 0.0073167 ,\n",
      "       0.01038217, 0.01481978, 0.0160769 , 0.013523  , 0.01087788,\n",
      "       0.01113565, 0.01439942, 0.01476029, 0.01839683, 0.02082383,\n",
      "       0.02385362, 0.02910816, 0.02741481, 0.0267803 , 0.02670495,\n",
      "       0.0243414 , 0.02077624, 0.0206652 , 0.0243295 , 0.02529316,\n",
      "       0.0275893 , 0.02696668, 0.02628855, 0.02331825, 0.02348084,\n",
      "       0.02051451, 0.02001087, 0.02411932, 0.02472607, 0.02530506,\n",
      "       0.02871159, 0.02858072, 0.03414458, 0.03309367, 0.03358542,\n",
      "       0.03280814, 0.03573879, 0.03560792, 0.03655572, 0.03557223,\n",
      "       0.03114652, 0.0331254 , 0.03115049, 0.03435476, 0.03661124,\n",
      "       0.03657555, 0.03573482, 0.03219346, 0.04066021, 0.03843546,\n",
      "       0.04052537, 0.04101712, 0.03997414, 0.038257  , 0.03888358,\n",
      "       0.0369047 , 0.03762249, 0.03134877, 0.02915574, 0.03196345,\n",
      "       0.02875918, 0.02927472, 0.02808104, 0.03022648, 0.02987353,\n",
      "       0.0278312 , 0.03260986, 0.03255831, 0.03209432, 0.03553654]), array([0.02674461, 0.02554697, 0.029588  , 0.02952455, 0.03061115,\n",
      "       0.02006242, 0.01808354, 0.02472607, 0.02839037, 0.01919393,\n",
      "       0.01508945, 0.01585086, 0.01740541, 0.02537644, 0.01727057,\n",
      "       0.01430424, 0.016759  , 0.013638  , 0.01293211, 0.00937092,\n",
      "       0.00975559, 0.0139394 , 0.01352696, 0.01538687, 0.01403061,\n",
      "       0.01398302, 0.00895849, 0.00690426, 0.0073167 , 0.01038217,\n",
      "       0.01481978, 0.0160769 , 0.013523  , 0.01087788, 0.01113565,\n",
      "       0.01439942, 0.01476029, 0.01839683, 0.02082383, 0.02385362,\n",
      "       0.02910816, 0.02741481, 0.0267803 , 0.02670495, 0.0243414 ,\n",
      "       0.02077624, 0.0206652 , 0.0243295 , 0.02529316, 0.0275893 ,\n",
      "       0.02696668, 0.02628855, 0.02331825, 0.02348084, 0.02051451,\n",
      "       0.02001087, 0.02411932, 0.02472607, 0.02530506, 0.02871159,\n",
      "       0.02858072, 0.03414458, 0.03309367, 0.03358542, 0.03280814,\n",
      "       0.03573879, 0.03560792, 0.03655572, 0.03557223, 0.03114652,\n",
      "       0.0331254 , 0.03115049, 0.03435476, 0.03661124, 0.03657555,\n",
      "       0.03573482, 0.03219346, 0.04066021, 0.03843546, 0.04052537,\n",
      "       0.04101712, 0.03997414, 0.038257  , 0.03888358, 0.0369047 ,\n",
      "       0.03762249, 0.03134877, 0.02915574, 0.03196345, 0.02875918,\n",
      "       0.02927472, 0.02808104, 0.03022648, 0.02987353, 0.0278312 ,\n",
      "       0.03260986, 0.03255831, 0.03209432, 0.03553654, 0.03740041])]\n",
      "[0.03740041163850363, 0.036460543378687565]\n",
      "\n"
     ]
    },
    {
     "data": {
      "text/plain": [
       "(1692, 100, 1)"
      ]
     },
     "execution_count": 7,
     "metadata": {},
     "output_type": "execute_result"
    }
   ],
   "source": [
    "# Create the training data set \n",
    "# Create the scaled training data set\n",
    "train_data = scaled_data[0:int(training_data_len), :]\n",
    "# Split the data into x_train and y_train data sets\n",
    "x_train = []\n",
    "y_train = []\n",
    "\n",
    "\n",
    "dat_size = 100\n",
    "\n",
    "for i in range(dat_size, len(train_data)):\n",
    "    x_train.append(train_data[i-dat_size:i, 0])\n",
    "    y_train.append(train_data[i, 0])\n",
    "    if i<= dat_size+1:\n",
    "        print(x_train)\n",
    "        print(y_train)\n",
    "        print()\n",
    "        \n",
    "# Convert the x_train and y_train to numpy arrays \n",
    "x_train, y_train = np.array(x_train), np.array(y_train)\n",
    "\n",
    "# Reshape the data\n",
    "x_train = np.reshape(x_train, (x_train.shape[0], x_train.shape[1], 1))\n",
    "x_train.shape"
   ]
  },
  {
   "cell_type": "markdown",
   "id": "f4f2f0c2",
   "metadata": {},
   "source": [
    "## Testing Data"
   ]
  },
  {
   "cell_type": "code",
   "execution_count": 8,
   "id": "b082a74f",
   "metadata": {},
   "outputs": [],
   "source": [
    "# Create the testing data set\n",
    "# Create a new array containing scaled values from index 1543 to 2002 \n",
    "test_data = scaled_data[training_data_len - dat_size: , :]\n",
    "# Create the data sets x_test and y_test\n",
    "x_test = []\n",
    "y_test = dataset[training_data_len:, :]\n",
    "for i in range(dat_size, len(test_data)):\n",
    "    x_test.append(test_data[i-dat_size:i, 0])\n",
    "    \n",
    "# Convert the data to a numpy array\n",
    "x_test = np.array(x_test)\n",
    "\n",
    "# Reshape the data\n",
    "x_test = np.reshape(x_test, (x_test.shape[0], x_test.shape[1], 1 ))"
   ]
  },
  {
   "cell_type": "code",
   "execution_count": 9,
   "id": "e8935450",
   "metadata": {},
   "outputs": [],
   "source": [
    "import tensorflow as tf\n",
    "from tensorflow.keras import layers\n",
    "from tensorflow import keras\n",
    "from tensorflow.keras.layers import RNN, LSTMCell\n",
    "from tensorflow.keras.backend import dot\n",
    "from tensorflow.keras import activations, initializers\n",
    "from keras.models import Sequential\n",
    "from keras.layers import Dense, LSTM"
   ]
  },
  {
   "cell_type": "code",
   "execution_count": 10,
   "id": "b6fb4330",
   "metadata": {},
   "outputs": [],
   "source": [
    "import pennylane as qml\n",
    "from pennylane import optimize\n",
    "import matplotlib.pyplot as plt"
   ]
  },
  {
   "cell_type": "markdown",
   "id": "7f7efabb",
   "metadata": {},
   "source": [
    "# Preparing Quantum memory layer"
   ]
  },
  {
   "cell_type": "code",
   "execution_count": 11,
   "id": "0591250d",
   "metadata": {},
   "outputs": [],
   "source": [
    "from CV_quantum_layers import CV_Encoding, CV_Measurement, Activation_Layer\n",
    "from CV_quantum_layers import build_cv_quantum_node, QuantumLayer_MultiQunode"
   ]
  },
  {
   "cell_type": "code",
   "execution_count": 12,
   "id": "391b78f1",
   "metadata": {},
   "outputs": [],
   "source": [
    "encode_AP = CV_Encoding('Amplitude_Phase')\n",
    "Qrelu = Activation_Layer('ReLU', encode_AP)\n",
    "Qsig = Activation_Layer('Sigmoid', encode_AP)\n",
    "Qtanh = Activation_Layer('TanH', encode_AP)"
   ]
  },
  {
   "cell_type": "code",
   "execution_count": null,
   "id": "e88988c2",
   "metadata": {},
   "outputs": [],
   "source": [
    "def "
   ]
  },
  {
   "cell_type": "markdown",
   "id": "1c19f7a8",
   "metadata": {},
   "source": [
    "# Defining our network"
   ]
  },
  {
   "cell_type": "code",
   "execution_count": 20,
   "id": "f3bd3b39",
   "metadata": {},
   "outputs": [],
   "source": [
    "class LSTM(tf.keras.layers.Layer):\n",
    "    def __init__(self, units, **kwargs):\n",
    "        self.units = units\n",
    "        self.state_size = [self.units, self.units]\n",
    "        \n",
    "        self.activation = activations.get('tanh')\n",
    "        self.recurrent_activation = activations.get('hard_sigmoid')\n",
    "        self.kernel_initializer = initializers.get('glorot_uniform')\n",
    "        self.recurrent_initializer = initializers.get('orthogonal')\n",
    "        self.bias_initializer = initializers.get('zeros')\n",
    "        \n",
    "        super(LSTM, self).__init__(**kwargs)\n",
    "\n",
    "    def build(self, input_shape):\n",
    "        self.ft = self.add_weight(shape=(input_shape[-1] + self.units, self.units),\n",
    "                                      initializer=self.kernel_initializer,\n",
    "                                      name='ft')\n",
    "        self.ft_b = self.add_weight(shape=(self.units),\n",
    "                                      initializer=self.bias_initializer,\n",
    "                                      name='ft_b')\n",
    "        self.c = self.add_weight(shape=(input_shape[-1] + self.units, self.units),\n",
    "                                      initializer=self.kernel_initializer,\n",
    "                                      name='ct')\n",
    "        print(self.c.shape)\n",
    "        self.c_b = self.add_weight(shape=(self.units),\n",
    "                                      initializer=self.bias_initializer,\n",
    "                                      name='c_b')\n",
    "        self.o = self.add_weight(shape=(input_shape[-1] + self.units, self.units),\n",
    "                                      initializer=self.kernel_initializer,\n",
    "                                      name='ot')\n",
    "        self.o_b = self.add_weight(shape=(self.units),\n",
    "                                      initializer=self.bias_initializer,\n",
    "                                      name='o_b')\n",
    "        self.it = self.add_weight(shape=(input_shape[-1] + self.units, self.units),\n",
    "                                      initializer=self.kernel_initializer,\n",
    "                                      name='it')\n",
    "        self.it_b = self.add_weight(shape=(self.units),\n",
    "                                      initializer=self.bias_initializer,\n",
    "                                      name='i_b')\n",
    "\n",
    "        self.built = True\n",
    "\n",
    "    def call(self, inputs, states):\n",
    "        h,c = states[0], states[1]\n",
    "        \n",
    "        x = tf.concat([h,inputs], axis=-1)\n",
    "        \n",
    "        y_ft = self.recurrent_activation(dot(x, self.ft) + self.ft_b)\n",
    "        print(f'y_ft: {y_ft.shape}')\n",
    "        \n",
    "        y_it = self.recurrent_activation(dot(x, self.it) + self.it_b)\n",
    "        \n",
    "        y_c = self.activation(dot(x, self.c) + self.c_b)\n",
    "        \n",
    "        itC = y_it * y_c\n",
    "        print(f'itC: {itC}')\n",
    "        \n",
    "        c = c * y_ft + y_it * y_c\n",
    "        \n",
    "        y_o = self.recurrent_activation(dot(x, self.o) + self.o_b)\n",
    "        \n",
    "        \n",
    "        h = y_o * self.activation(c)\n",
    "        \n",
    "        output = h\n",
    "        \n",
    "        return output, [h,c]"
   ]
  },
  {
   "cell_type": "markdown",
   "id": "a22faf07",
   "metadata": {},
   "source": [
    "# Compiling the model"
   ]
  },
  {
   "cell_type": "code",
   "execution_count": 40,
   "id": "c64e0801",
   "metadata": {},
   "outputs": [
    {
     "name": "stdout",
     "output_type": "stream",
     "text": [
      "(5, 4)\n"
     ]
    },
    {
     "ename": "InvalidArgumentError",
     "evalue": "{{function_node __wrapped____MklMatMul_device_/job:localhost/replica:0/task:0/device:CPU:0}} Matrix size-incompatible: In[0]: [100,2], In[1]: [5,4] [Op:MatMul]",
     "output_type": "error",
     "traceback": [
      "\u001b[1;31m---------------------------------------------------------------------------\u001b[0m",
      "\u001b[1;31mInvalidArgumentError\u001b[0m                      Traceback (most recent call last)",
      "Cell \u001b[1;32mIn[40], line 3\u001b[0m\n\u001b[0;32m      1\u001b[0m test_cell \u001b[38;5;241m=\u001b[39m LSTM(\u001b[38;5;241m4\u001b[39m)\n\u001b[0;32m      2\u001b[0m test_cell\u001b[38;5;241m.\u001b[39mbuild([\u001b[38;5;241m3\u001b[39m,\u001b[38;5;241m1\u001b[39m])\n\u001b[1;32m----> 3\u001b[0m \u001b[43mtest_cell\u001b[49m\u001b[38;5;241;43m.\u001b[39;49m\u001b[43mcall\u001b[49m\u001b[43m(\u001b[49m\u001b[43mnp\u001b[49m\u001b[38;5;241;43m.\u001b[39;49m\u001b[43mzeros\u001b[49m\u001b[43m(\u001b[49m\u001b[43m(\u001b[49m\u001b[38;5;241;43m100\u001b[39;49m\u001b[43m,\u001b[49m\u001b[43m \u001b[49m\u001b[38;5;241;43m1\u001b[39;49m\u001b[43m)\u001b[49m\u001b[43m,\u001b[49m\u001b[43m \u001b[49m\u001b[43mdtype\u001b[49m\u001b[38;5;241;43m=\u001b[39;49m\u001b[38;5;124;43m'\u001b[39;49m\u001b[38;5;124;43mfloat32\u001b[39;49m\u001b[38;5;124;43m'\u001b[39;49m\u001b[43m)\u001b[49m\u001b[43m,\u001b[49m\u001b[43m \u001b[49m\u001b[43mnp\u001b[49m\u001b[38;5;241;43m.\u001b[39;49m\u001b[43mzeros\u001b[49m\u001b[43m(\u001b[49m\u001b[43m(\u001b[49m\u001b[38;5;241;43m5\u001b[39;49m\u001b[43m,\u001b[49m\u001b[43m \u001b[49m\u001b[38;5;241;43m100\u001b[39;49m\u001b[43m,\u001b[49m\u001b[43m \u001b[49m\u001b[38;5;241;43m1\u001b[39;49m\u001b[43m)\u001b[49m\u001b[43m,\u001b[49m\u001b[43m \u001b[49m\u001b[43mdtype\u001b[49m\u001b[38;5;241;43m=\u001b[39;49m\u001b[38;5;124;43m'\u001b[39;49m\u001b[38;5;124;43mfloat32\u001b[39;49m\u001b[38;5;124;43m'\u001b[39;49m\u001b[43m)\u001b[49m\u001b[43m)\u001b[49m\n",
      "Cell \u001b[1;32mIn[20], line 48\u001b[0m, in \u001b[0;36mLSTM.call\u001b[1;34m(self, inputs, states)\u001b[0m\n\u001b[0;32m     44\u001b[0m h,c \u001b[38;5;241m=\u001b[39m states[\u001b[38;5;241m0\u001b[39m], states[\u001b[38;5;241m1\u001b[39m]\n\u001b[0;32m     46\u001b[0m x \u001b[38;5;241m=\u001b[39m tf\u001b[38;5;241m.\u001b[39mconcat([h,inputs], axis\u001b[38;5;241m=\u001b[39m\u001b[38;5;241m-\u001b[39m\u001b[38;5;241m1\u001b[39m)\n\u001b[1;32m---> 48\u001b[0m y_ft \u001b[38;5;241m=\u001b[39m \u001b[38;5;28mself\u001b[39m\u001b[38;5;241m.\u001b[39mrecurrent_activation(\u001b[43mdot\u001b[49m\u001b[43m(\u001b[49m\u001b[43mx\u001b[49m\u001b[43m,\u001b[49m\u001b[43m \u001b[49m\u001b[38;5;28;43mself\u001b[39;49m\u001b[38;5;241;43m.\u001b[39;49m\u001b[43mft\u001b[49m\u001b[43m)\u001b[49m \u001b[38;5;241m+\u001b[39m \u001b[38;5;28mself\u001b[39m\u001b[38;5;241m.\u001b[39mft_b)\n\u001b[0;32m     49\u001b[0m \u001b[38;5;28mprint\u001b[39m(\u001b[38;5;124mf\u001b[39m\u001b[38;5;124m'\u001b[39m\u001b[38;5;124my_ft: \u001b[39m\u001b[38;5;132;01m{\u001b[39;00my_ft\u001b[38;5;241m.\u001b[39mshape\u001b[38;5;132;01m}\u001b[39;00m\u001b[38;5;124m'\u001b[39m)\n\u001b[0;32m     51\u001b[0m y_it \u001b[38;5;241m=\u001b[39m \u001b[38;5;28mself\u001b[39m\u001b[38;5;241m.\u001b[39mrecurrent_activation(dot(x, \u001b[38;5;28mself\u001b[39m\u001b[38;5;241m.\u001b[39mit) \u001b[38;5;241m+\u001b[39m \u001b[38;5;28mself\u001b[39m\u001b[38;5;241m.\u001b[39mit_b)\n",
      "File \u001b[1;32m~\\anaconda3\\envs\\cvqml\\lib\\site-packages\\tensorflow\\python\\util\\traceback_utils.py:153\u001b[0m, in \u001b[0;36mfilter_traceback.<locals>.error_handler\u001b[1;34m(*args, **kwargs)\u001b[0m\n\u001b[0;32m    151\u001b[0m \u001b[38;5;28;01mexcept\u001b[39;00m \u001b[38;5;167;01mException\u001b[39;00m \u001b[38;5;28;01mas\u001b[39;00m e:\n\u001b[0;32m    152\u001b[0m   filtered_tb \u001b[38;5;241m=\u001b[39m _process_traceback_frames(e\u001b[38;5;241m.\u001b[39m__traceback__)\n\u001b[1;32m--> 153\u001b[0m   \u001b[38;5;28;01mraise\u001b[39;00m e\u001b[38;5;241m.\u001b[39mwith_traceback(filtered_tb) \u001b[38;5;28;01mfrom\u001b[39;00m \u001b[38;5;28mNone\u001b[39m\n\u001b[0;32m    154\u001b[0m \u001b[38;5;28;01mfinally\u001b[39;00m:\n\u001b[0;32m    155\u001b[0m   \u001b[38;5;28;01mdel\u001b[39;00m filtered_tb\n",
      "File \u001b[1;32m~\\anaconda3\\envs\\cvqml\\lib\\site-packages\\keras\\backend.py:2455\u001b[0m, in \u001b[0;36mdot\u001b[1;34m(x, y)\u001b[0m\n\u001b[0;32m   2453\u001b[0m     out \u001b[38;5;241m=\u001b[39m tf\u001b[38;5;241m.\u001b[39msparse\u001b[38;5;241m.\u001b[39msparse_dense_matmul(x, y)\n\u001b[0;32m   2454\u001b[0m \u001b[38;5;28;01melse\u001b[39;00m:\n\u001b[1;32m-> 2455\u001b[0m     out \u001b[38;5;241m=\u001b[39m \u001b[43mtf\u001b[49m\u001b[38;5;241;43m.\u001b[39;49m\u001b[43mmatmul\u001b[49m\u001b[43m(\u001b[49m\u001b[43mx\u001b[49m\u001b[43m,\u001b[49m\u001b[43m \u001b[49m\u001b[43my\u001b[49m\u001b[43m)\u001b[49m\n\u001b[0;32m   2456\u001b[0m \u001b[38;5;28;01mreturn\u001b[39;00m out\n",
      "\u001b[1;31mInvalidArgumentError\u001b[0m: {{function_node __wrapped____MklMatMul_device_/job:localhost/replica:0/task:0/device:CPU:0}} Matrix size-incompatible: In[0]: [100,2], In[1]: [5,4] [Op:MatMul]"
     ]
    }
   ],
   "source": [
    "test_cell = LSTM(4)\n",
    "test_cell.build([3,1])\n",
    "test_cell.call(np.zeros((100, 1), dtype='float32'), np.zeros((5, 100, 1), dtype='float32'))"
   ]
  },
  {
   "cell_type": "code",
   "execution_count": 28,
   "id": "0eb2eeff",
   "metadata": {},
   "outputs": [
    {
     "data": {
      "text/plain": [
       "(100, 1)"
      ]
     },
     "execution_count": 28,
     "metadata": {},
     "output_type": "execute_result"
    }
   ],
   "source": [
    "x_train[0].shape"
   ]
  },
  {
   "cell_type": "code",
   "execution_count": 20,
   "id": "7200d370",
   "metadata": {},
   "outputs": [
    {
     "name": "stderr",
     "output_type": "stream",
     "text": [
      "C:\\Users\\rjrob\\anaconda3\\envs\\cvqml\\lib\\site-packages\\keras\\initializers\\initializers_v2.py:120: UserWarning: The initializer GlorotUniform is unseeded and being called multiple times, which will return identical values  each time (even if the initializer is unseeded). Please update your code to provide a seed to the initializer, or avoid using the same initalizer instance more than once.\n",
      "  warnings.warn(\n"
     ]
    },
    {
     "name": "stdout",
     "output_type": "stream",
     "text": [
      "1688/1688 [==============================] - 315s 179ms/step - loss: 7.5857e-04\n"
     ]
    },
    {
     "data": {
      "text/plain": [
       "<keras.callbacks.History at 0x20d23677cd0>"
      ]
     },
     "execution_count": 20,
     "metadata": {},
     "output_type": "execute_result"
    }
   ],
   "source": [
    "# Build the LSTM model\n",
    "#cell = LSTM(8)\n",
    "#layer = RNN(cell, return_sequences=True)\n",
    "\n",
    "cell2 = LSTM(4)\n",
    "layer2 = RNN(cell2, return_sequences=False)\n",
    "model = Sequential()\n",
    "#model.add(layer)\n",
    "model.add(layer2)\n",
    "model.add(Dense(35))\n",
    "model.add(Dense(1))\n",
    "\n",
    "# Compile the model\n",
    "model.compile(optimizer='adam', loss='mean_squared_error')\n",
    "\n",
    "# Train the model\n",
    "model.fit(x_train, y_train, batch_size=1, epochs=1)"
   ]
  },
  {
   "cell_type": "code",
   "execution_count": null,
   "id": "4c3595bb",
   "metadata": {},
   "outputs": [],
   "source": []
  }
 ],
 "metadata": {
  "kernelspec": {
   "display_name": "Python 3 (ipykernel)",
   "language": "python",
   "name": "python3"
  },
  "language_info": {
   "codemirror_mode": {
    "name": "ipython",
    "version": 3
   },
   "file_extension": ".py",
   "mimetype": "text/x-python",
   "name": "python",
   "nbconvert_exporter": "python",
   "pygments_lexer": "ipython3",
   "version": "3.10.9"
  }
 },
 "nbformat": 4,
 "nbformat_minor": 5
}
